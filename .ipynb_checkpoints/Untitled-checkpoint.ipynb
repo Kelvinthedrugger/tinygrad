{
 "cells": [
  {
   "cell_type": "code",
   "execution_count": 1,
   "id": "585c87f2",
   "metadata": {},
   "outputs": [],
   "source": [
    "#from tinygrad.tensor import *"
   ]
  },
  {
   "cell_type": "code",
   "execution_count": 14,
   "id": "d684eab5",
   "metadata": {},
   "outputs": [],
   "source": [
    "#??Tensor._conv2d ## shows detach()?"
   ]
  },
  {
   "cell_type": "code",
   "execution_count": 9,
   "id": "0863e604",
   "metadata": {},
   "outputs": [],
   "source": [
    "#??Function.apply"
   ]
  },
  {
   "cell_type": "code",
   "execution_count": 12,
   "id": "f90c5325",
   "metadata": {},
   "outputs": [],
   "source": [
    "#??Tensor"
   ]
  },
  {
   "cell_type": "code",
   "execution_count": 13,
   "id": "86f8433d",
   "metadata": {},
   "outputs": [],
   "source": [
    "#??Function"
   ]
  },
  {
   "cell_type": "code",
   "execution_count": null,
   "id": "044bcce1",
   "metadata": {},
   "outputs": [],
   "source": [
    "# don't delete above\n",
    "# we mostly starts from here instead of the tinygrad thing"
   ]
  },
  {
   "cell_type": "code",
   "execution_count": null,
   "id": "cc852728",
   "metadata": {},
   "outputs": [],
   "source": [
    "# winograd 2x3 for 1D works"
   ]
  },
  {
   "cell_type": "code",
   "execution_count": 1,
   "id": "3115e967",
   "metadata": {},
   "outputs": [],
   "source": [
    "import numpy as np\n",
    "\n",
    "# d: input, g: filter (weight)\n",
    "# 2, 3\n",
    "def wino_1D(g,d):\n",
    "    At = np.array([[1,1,1,0],[0,1,-1,-1]])\n",
    "    Bt = np.array([[1,0,-1,0],[0,1,1,0],[0,-1,1,0],[0,1,0,-1]])\n",
    "    G = np.array([[1,0,0],[0.5,0.5,0.5],[0.5,-0.5,0.5],[0,0,1]])\n",
    "    g = np.array(g).T\n",
    "    d = np.array(d).T\n",
    "\n",
    "    return At @ ( np.multiply( (G @ g), (Bt @ d) ) )\n",
    "\n",
    "def ans_1D(g,d):\n",
    "    return [g[0]*d[0]+g[1]*d[1]+g[2]*d[2], g[0]*d[1]+g[1]*d[2]+g[2]*d[3]]"
   ]
  },
  {
   "cell_type": "code",
   "execution_count": 2,
   "id": "9aeaf10f",
   "metadata": {},
   "outputs": [],
   "source": [
    "g,d = [-1,0,1],[4,5,6,7]"
   ]
  },
  {
   "cell_type": "code",
   "execution_count": 3,
   "id": "46159b0f",
   "metadata": {},
   "outputs": [
    {
     "name": "stdout",
     "output_type": "stream",
     "text": [
      "[2. 2.] , answer:  [2, 2]\n"
     ]
    }
   ],
   "source": [
    "print(wino_1D(g,d),\", answer: \", ans_1D(g,d))"
   ]
  },
  {
   "cell_type": "code",
   "execution_count": 4,
   "id": "dccc1fa3",
   "metadata": {},
   "outputs": [],
   "source": [
    "# create a function for mapping x to m space (aka, winograd space) //in linear algebra"
   ]
  },
  {
   "cell_type": "code",
   "execution_count": 5,
   "id": "0c54fecb",
   "metadata": {},
   "outputs": [],
   "source": [
    "def linmap(m,x):\n",
    "    print(m)\n",
    "    print(x)\n",
    "    return m.T @ x @ m"
   ]
  },
  {
   "cell_type": "code",
   "execution_count": 6,
   "id": "18782585",
   "metadata": {},
   "outputs": [],
   "source": [
    "# g, d for 1D winograd"
   ]
  },
  {
   "cell_type": "code",
   "execution_count": 7,
   "id": "60df3458",
   "metadata": {},
   "outputs": [
    {
     "data": {
      "text/plain": [
       "array([[-1],\n",
       "       [ 0],\n",
       "       [ 1]])"
      ]
     },
     "execution_count": 7,
     "metadata": {},
     "output_type": "execute_result"
    }
   ],
   "source": [
    "np.array(g).reshape((3,1))"
   ]
  },
  {
   "cell_type": "code",
   "execution_count": 8,
   "id": "3878a547",
   "metadata": {},
   "outputs": [
    {
     "data": {
      "text/plain": [
       "(4, 3)"
      ]
     },
     "execution_count": 8,
     "metadata": {},
     "output_type": "execute_result"
    }
   ],
   "source": [
    "np.array([[1,0,0],[0.5,0.5,0.5],[0.5,-0.5,0.5],[0,0,1]]).shape"
   ]
  },
  {
   "cell_type": "code",
   "execution_count": 9,
   "id": "6ffe7b9f",
   "metadata": {},
   "outputs": [],
   "source": [
    "# experimenting for 2D"
   ]
  },
  {
   "cell_type": "code",
   "execution_count": 10,
   "id": "73e69a76",
   "metadata": {},
   "outputs": [
    {
     "data": {
      "text/plain": [
       "array([[-1. ,  0. ,  0. ,  1. ],\n",
       "       [-1.5,  0. ,  0. ,  1.5],\n",
       "       [-0.5,  0. ,  0. ,  0.5],\n",
       "       [-1. ,  0. ,  0. ,  1. ]])"
      ]
     },
     "execution_count": 10,
     "metadata": {},
     "output_type": "execute_result"
    }
   ],
   "source": [
    "(np.array([[1,0,0],[0.5,0.5,0.5],[0.5,-0.5,0.5],[0,0,1]]) @ (np.array([g,g,g,]).reshape(3,3))) @ ((np.array([[1,0,0],[0.5,0.5,0.5],[0.5,-0.5,0.5],[0,0,1]])).T)"
   ]
  },
  {
   "cell_type": "code",
   "execution_count": 11,
   "id": "f1d44d70",
   "metadata": {},
   "outputs": [],
   "source": [
    "# concat g to get the right shape, which is not the correct g,\n",
    "# 2D: F(mxm, rxr), m, r means the shape of input and filter"
   ]
  },
  {
   "cell_type": "code",
   "execution_count": 12,
   "id": "938ca946",
   "metadata": {},
   "outputs": [
    {
     "name": "stdout",
     "output_type": "stream",
     "text": [
      "[[ 1.   0.5  0.5  0. ]\n",
      " [ 0.   0.5 -0.5  0. ]\n",
      " [ 0.   0.5  0.5  1. ]]\n",
      "[[-1  0  1]\n",
      " [-1  0  1]\n",
      " [-1  0  1]]\n"
     ]
    },
    {
     "data": {
      "text/plain": [
       "array([[-1. ,  0. ,  0. ,  1. ],\n",
       "       [-1.5,  0. ,  0. ,  1.5],\n",
       "       [-0.5,  0. ,  0. ,  0.5],\n",
       "       [-1. ,  0. ,  0. ,  1. ]])"
      ]
     },
     "execution_count": 12,
     "metadata": {},
     "output_type": "execute_result"
    }
   ],
   "source": [
    "linmap(np.array([[1,0,0],[0.5,0.5,0.5],[0.5,-0.5,0.5],[0,0,1]]).T,np.array([g,g,g,]).reshape(3,3))"
   ]
  },
  {
   "cell_type": "code",
   "execution_count": 13,
   "id": "fead171b",
   "metadata": {},
   "outputs": [],
   "source": [
    "# worked\n",
    "def wino_2D(g,d):\n",
    "    At = np.array([[1,1,1,0],[0,1,-1,-1]])\n",
    "    Bt = np.array([[1,0,-1,0],[0,1,1,0],[0,-1,1,0],[0,1,0,-1]])\n",
    "    G = np.array([[1,0,0],[0.5,0.5,0.5],[0.5,-0.5,0.5],[0,0,1]])\n",
    "    #return At @ ( np.multiply( (G @ g @ G.T), (Bt @ d @ B) ) ) @ A\n",
    "    one = G @ g @ (G.T)\n",
    "    two = Bt @ d @ (Bt.T)\n",
    "    ot = np.multiply(one,two) # element-wise mul\n",
    "    return At @ ot @ (At.T)"
   ]
  },
  {
   "cell_type": "code",
   "execution_count": 14,
   "id": "9dfdc5b4",
   "metadata": {},
   "outputs": [
    {
     "data": {
      "text/plain": [
       "array([[6., 6.],\n",
       "       [6., 6.]])"
      ]
     },
     "execution_count": 14,
     "metadata": {},
     "output_type": "execute_result"
    }
   ],
   "source": [
    "wino_2D(np.array([g,g,g]).reshape(3,3),np.array([d,d,d,d]).reshape(4,4))"
   ]
  },
  {
   "cell_type": "code",
   "execution_count": 15,
   "id": "e5c805da",
   "metadata": {},
   "outputs": [
    {
     "data": {
      "text/plain": [
       "(array([[-1,  0,  1],\n",
       "        [-1,  0,  1],\n",
       "        [-1,  0,  1]]),\n",
       " array([[4, 5, 6, 7],\n",
       "        [4, 5, 6, 7],\n",
       "        [4, 5, 6, 7],\n",
       "        [4, 5, 6, 7]]))"
      ]
     },
     "execution_count": 15,
     "metadata": {},
     "output_type": "execute_result"
    }
   ],
   "source": [
    "a,b = np.array([g,g,g]).reshape(3,3), np.array([d,d,d,d]).reshape(4,4)\n",
    "a,b"
   ]
  },
  {
   "cell_type": "code",
   "execution_count": 16,
   "id": "08141f94",
   "metadata": {},
   "outputs": [
    {
     "data": {
      "text/plain": [
       "array([[6., 6.],\n",
       "       [6., 6.]])"
      ]
     },
     "execution_count": 16,
     "metadata": {},
     "output_type": "execute_result"
    }
   ],
   "source": [
    "def ans_2D(g,d):\n",
    "    row = d.shape[0] - g.shape[0] + 1\n",
    "    col = d.shape[1] - g.shape[1] + 1\n",
    "    # print(row,col) (2,2)\n",
    "    st = 1 # step\n",
    "    ks = g.shape[0] # kernel size in convops\n",
    "    ans = np.zeros((row,col)) # init the result mat\n",
    "    for r in range(0,row,st):\n",
    "        for c in range(0,col,st):\n",
    "            # print(d[r:ks,c:ks])\n",
    "            ans[r,c] = np.multiply(g,d[r:r+ks,c:c+ks]).sum()\n",
    "    \n",
    "    return ans\n",
    "    \n",
    "ans_2D(a,b)"
   ]
  },
  {
   "cell_type": "code",
   "execution_count": 17,
   "id": "ee79cfdc",
   "metadata": {},
   "outputs": [
    {
     "name": "stdout",
     "output_type": "stream",
     "text": [
      "Object `linmap # map input vector to coloum space // linear algebra` not found.\n"
     ]
    }
   ],
   "source": [
    "# FIR filter \n",
    "# F(mxm,rxr): used in conv layer with rxr kernel\n",
    "#    size: m+r-1; overlap with neighbor: r-1\n",
    "#   -> yeilding P[H/m][W/m] tiles per channel, C\n",
    "??linmap # map input vector to coloum space // linear algebra"
   ]
  },
  {
   "cell_type": "code",
   "execution_count": 18,
   "id": "f913e627",
   "metadata": {},
   "outputs": [],
   "source": [
    "# cover the print in linmap\n",
    "\n",
    "def linmapp(M,x): return M @ x @ (M.T)\n"
   ]
  },
  {
   "cell_type": "code",
   "execution_count": 19,
   "id": "d2acda69",
   "metadata": {},
   "outputs": [],
   "source": [
    "def get_mapped_filter(G,g):\n",
    "    #return G @ g @ (G.T)\n",
    "    return linmapp(G,g)\n",
    "\n",
    "def get_mapped_input(Bt,d):\n",
    "    #return Bt @ d @ (Bt.T)\n",
    "    return linmapp(Bt,d)\n"
   ]
  },
  {
   "cell_type": "code",
   "execution_count": 20,
   "id": "8b5a9936",
   "metadata": {},
   "outputs": [],
   "source": [
    "def init(h,w,c=1):\n",
    "    return np.random.uniform(-1.,1.,size=(c,h,w))/np.sqrt(h*w)"
   ]
  },
  {
   "cell_type": "code",
   "execution_count": 21,
   "id": "dd7e4e6b",
   "metadata": {},
   "outputs": [
    {
     "data": {
      "text/plain": [
       "array([[ 0.05072563,  0.16203963, -0.09221989],\n",
       "       [ 0.01298927, -0.30415356, -0.02236056],\n",
       "       [-0.31238747,  0.16381704, -0.25833063]])"
      ]
     },
     "execution_count": 21,
     "metadata": {},
     "output_type": "execute_result"
    }
   ],
   "source": [
    "init(3,3,1)[0]"
   ]
  },
  {
   "cell_type": "code",
   "execution_count": 33,
   "id": "58de19a4",
   "metadata": {},
   "outputs": [],
   "source": [
    "# write a general wino_m_r(m,r) ones later\n",
    "\n",
    "# attention: what's the role of #filters here?\n",
    "def wino_m2_f3_conv(image,m=2,r=3,filters=1):\n",
    "    alpha = m + r-1\n",
    "    C, H, W= image.shape\n",
    "    #print(H,W,C)\n",
    "    P = (H//m) * (W // m)\n",
    "    print(\" H W C P\\n\", H, W, C, P)\n",
    "    K = filters\n",
    "\n",
    "    out = np.zeros((alpha,alpha))\n",
    "    # inverse transform\n",
    "    At = np.array([[1,1,1,0],[0,1,-1,-1]])\n",
    "    # data, not the input !\n",
    "    Bt = np.array([[1,0,-1,0],[0,1,1,0],[0,-1,1,0],[0,1,0,-1]])\n",
    "    # filter: (alpha,r)\n",
    "    G = np.array([[1,0,0],[0.5,0.5,0.5],[0.5,-0.5,0.5],[0,0,1]])\n",
    "    \n",
    "    # d: input tile b in channel c (alpha,alpha)\n",
    "    # g: filter k in channel c (rxr)\n",
    "    g = init(3,3,K)\n",
    "    # Y: output tile b in filter k (mxm)\n",
    "    \n",
    "    # kernel transform ?\n",
    "    U = np.zeros((K,C,alpha,alpha))\n",
    "    for k in range(K):\n",
    "        for c in range(C):\n",
    "            u = get_mapped_filter(G,g[k])\n",
    "            # U ?\n",
    "            U[k,c] = u\n",
    "    print(\"U\",U)\n",
    "    # input tiles: HARD!\n",
    "    # loop thru image tiles often means\n",
    "    #  double for-loop\n",
    "    d = image # cast to image tiles, expensive, should be improved later\n",
    "    print(d.shape)\n",
    "    print(d)\n",
    "    P = 1 # debug\n",
    "    V = np.zeros((C,P,alpha,alpha))\n",
    "    #\"\"\"\n",
    "    for b in range(1):\n",
    "        for c in range(C):\n",
    "            v = get_mapped_input(Bt,d[b])\n",
    "            V[c,b] = v\n",
    "    \"\"\"\n",
    "    for row in range(0,H//r+1):\n",
    "        for col in range(0,W//r+1):\n",
    "        # put channel in inner loop to move as less (i guess ?)\n",
    "            for c in range(C):\n",
    "                print(d[c,row:row+r,col:col+r].shape)\n",
    "                v = get_mapped_input(Bt,d[c, row:row+r,col:col+r])\n",
    "                V[c,col+row*(W//r+1)] = v # ?\"\"\"\n",
    "    print(\"V\", V)\n",
    "    M = np.multiply(U,V)\n",
    "    print(\"M\",M)\n",
    "    Y = linmap(At.T,M)\n",
    "    # output\n",
    "#     M = np.zeros((K,P))\n",
    "#     for e in range(K):\n",
    "#         for v in range(P):\n",
    "#             M[e,v] = np.multiply(U[e,v], V[e,v])\n",
    "#     print(\"M\",M)\n",
    "    \n",
    "#     Y = np.zeros((K,P))\n",
    "#     for k in range(K):\n",
    "#         for b in range(P):\n",
    "#             m = M[k,b]\n",
    "#             Y[k,b] = linmap(At,m)\n",
    "#     print(\"Y\",Y)\n",
    "    return Y, g"
   ]
  },
  {
   "cell_type": "code",
   "execution_count": 23,
   "id": "401fcc45",
   "metadata": {},
   "outputs": [
    {
     "data": {
      "text/plain": [
       "array([[[ 0.24233456,  0.16570462, -0.03448749, -0.12532428],\n",
       "        [ 0.19087017, -0.05912855, -0.09906153,  0.07582253],\n",
       "        [-0.03654098, -0.04763518, -0.19088274, -0.04209073],\n",
       "        [ 0.09727648, -0.19130552, -0.09663484,  0.21113082]]])"
      ]
     },
     "execution_count": 23,
     "metadata": {},
     "output_type": "execute_result"
    }
   ],
   "source": [
    "image = init(4,4,1)\n",
    "image"
   ]
  },
  {
   "cell_type": "code",
   "execution_count": 34,
   "id": "d4326260",
   "metadata": {},
   "outputs": [
    {
     "name": "stdout",
     "output_type": "stream",
     "text": [
      " H W C P\n",
      " 4 4 1 4\n",
      "U [[[[-0.0356572  -0.14277658  0.13418055  0.02706118]\n",
      "   [ 0.00225104 -0.18478708 -0.03469989 -0.22173801]\n",
      "   [-0.18054279 -0.22182266 -0.01181954 -0.0530994 ]\n",
      "   [-0.14263455 -0.26383317 -0.18069998 -0.30189859]]]]\n",
      "(1, 4, 4)\n",
      "[[[ 0.24233456  0.16570462 -0.03448749 -0.12532428]\n",
      "  [ 0.19087017 -0.05912855 -0.09906153  0.07582253]\n",
      "  [-0.03654098 -0.04763518 -0.19088274 -0.04209073]\n",
      "  [ 0.09727648 -0.19130552 -0.09663484  0.21113082]]]\n",
      "V [[[[ 0.12248029  0.36973505 -0.05694454  0.29657334]\n",
      "   [ 0.44427346 -0.396708   -0.18318055 -0.14049553]\n",
      "   [-0.13558995 -0.08032784 -0.10331458  0.12940663]\n",
      "   [ 0.09602039  0.12975028 -0.13460367  0.26748526]]]]\n",
      "M [[[[-0.0043673  -0.0527895  -0.00764085  0.00802563]\n",
      "   [ 0.00100008  0.07330651  0.00635634  0.0311532 ]\n",
      "   [ 0.02447979  0.01781854  0.00122113 -0.00687141]\n",
      "   [-0.01369583 -0.03423243  0.02432288 -0.08075343]]]]\n",
      "[[ 1  0]\n",
      " [ 1  1]\n",
      " [ 1 -1]\n",
      " [ 0 -1]]\n",
      "[[[[-0.0043673  -0.0527895  -0.00764085  0.00802563]\n",
      "   [ 0.00100008  0.07330651  0.00635634  0.0311532 ]\n",
      "   [ 0.02447979  0.01781854  0.00122113 -0.00687141]\n",
      "   [-0.01369583 -0.03423243  0.02432288 -0.08075343]]]]\n"
     ]
    },
    {
     "data": {
      "text/plain": [
       "array([[[[ 0.05938473,  0.00609151],\n",
       "         [ 0.06074885, -0.00986997]]]])"
      ]
     },
     "execution_count": 34,
     "metadata": {},
     "output_type": "execute_result"
    }
   ],
   "source": [
    "out, weight = wino_m2_f3_conv(image)\n",
    "out"
   ]
  },
  {
   "cell_type": "code",
   "execution_count": 35,
   "id": "bed2283f",
   "metadata": {},
   "outputs": [
    {
     "data": {
      "text/plain": [
       "array([[[-0.0356572 , -0.27695713,  0.02706118],\n",
       "        [ 0.18279383,  0.05991593, -0.16863861],\n",
       "        [-0.14263455, -0.08313318, -0.30189859]]])"
      ]
     },
     "execution_count": 35,
     "metadata": {},
     "output_type": "execute_result"
    }
   ],
   "source": [
    "weight"
   ]
  },
  {
   "cell_type": "code",
   "execution_count": 36,
   "id": "56f562b3",
   "metadata": {},
   "outputs": [
    {
     "data": {
      "text/plain": [
       "(1, 4, 4)"
      ]
     },
     "execution_count": 36,
     "metadata": {},
     "output_type": "execute_result"
    }
   ],
   "source": [
    "image.shape"
   ]
  },
  {
   "cell_type": "code",
   "execution_count": 42,
   "id": "9e038166",
   "metadata": {},
   "outputs": [
    {
     "data": {
      "text/plain": [
       "(3, 3)"
      ]
     },
     "execution_count": 42,
     "metadata": {},
     "output_type": "execute_result"
    }
   ],
   "source": [
    "weight[0].shape"
   ]
  },
  {
   "cell_type": "code",
   "execution_count": 82,
   "id": "ac858f05",
   "metadata": {},
   "outputs": [
    {
     "data": {
      "text/plain": [
       "array([[ 0.24233456,  0.16570462, -0.03448749, -0.12532428],\n",
       "       [ 0.19087017, -0.05912855, -0.09906153,  0.07582253],\n",
       "       [-0.03654098, -0.04763518, -0.19088274, -0.04209073]])"
      ]
     },
     "execution_count": 82,
     "metadata": {},
     "output_type": "execute_result"
    }
   ],
   "source": [
    "image[0][0:3][0:3]"
   ]
  },
  {
   "cell_type": "code",
   "execution_count": 88,
   "id": "92163599",
   "metadata": {},
   "outputs": [
    {
     "data": {
      "text/plain": [
       "((4, 4), (3, 4))"
      ]
     },
     "execution_count": 88,
     "metadata": {},
     "output_type": "execute_result"
    }
   ],
   "source": [
    "img = image.reshape((4,4))\n",
    "img.shape, img[0:3][0:3].shape"
   ]
  },
  {
   "cell_type": "code",
   "execution_count": 92,
   "id": "8d94940a",
   "metadata": {},
   "outputs": [
    {
     "data": {
      "text/plain": [
       "array([[ 0.24233456,  0.16570462, -0.03448749],\n",
       "       [ 0.19087017, -0.05912855, -0.09906153],\n",
       "       [-0.03654098, -0.04763518, -0.19088274]])"
      ]
     },
     "execution_count": 92,
     "metadata": {},
     "output_type": "execute_result"
    }
   ],
   "source": [
    "img[0:3,0:3]"
   ]
  },
  {
   "cell_type": "code",
   "execution_count": 62,
   "id": "db4a5103",
   "metadata": {},
   "outputs": [
    {
     "data": {
      "text/plain": [
       "(3, 4)"
      ]
     },
     "execution_count": 62,
     "metadata": {},
     "output_type": "execute_result"
    }
   ],
   "source": [
    "image[0][0:3][0:3].shape"
   ]
  },
  {
   "cell_type": "code",
   "execution_count": 103,
   "id": "a79d55ef",
   "metadata": {},
   "outputs": [
    {
     "data": {
      "text/plain": [
       "(3, 3)"
      ]
     },
     "execution_count": 103,
     "metadata": {},
     "output_type": "execute_result"
    }
   ],
   "source": [
    "weight[0].shape"
   ]
  },
  {
   "cell_type": "code",
   "execution_count": 108,
   "id": "4c3b22ef",
   "metadata": {},
   "outputs": [
    {
     "name": "stdout",
     "output_type": "stream",
     "text": [
      "3\n",
      "outsize 2\n",
      "r,c (0, 0) (3, 3)\n",
      "(3, 3)\n",
      "one.shape (3, 3) two.shape (3, 3)\n",
      "r,c (0, 1) (3, 4)\n",
      "(3, 3)\n",
      "one.shape (3, 3) two.shape (3, 3)\n",
      "r,c (1, 0) (4, 3)\n",
      "(3, 3)\n",
      "one.shape (3, 3) two.shape (3, 3)\n",
      "r,c (1, 1) (4, 4)\n",
      "(3, 3)\n",
      "one.shape (3, 3) two.shape (3, 3)\n"
     ]
    },
    {
     "data": {
      "text/plain": [
       "array([[ 0.05938473,  0.00609151],\n",
       "       [ 0.06074885, -0.00986997]])"
      ]
     },
     "execution_count": 108,
     "metadata": {},
     "output_type": "execute_result"
    }
   ],
   "source": [
    "def ans_conv2d(weight,image):\n",
    "    st = 1 # step\n",
    "    ks = weight[0].shape[0] # kernel size\n",
    "    print(ks)\n",
    "    H,W = image.shape\n",
    "    outsize = H - ks + 1 # output size\n",
    "    print(\"outsize\", outsize)\n",
    "    out = np.zeros((outsize,outsize))\n",
    "    for row in range(0,outsize,st):\n",
    "        for col in range(0,outsize,st):\n",
    "            print(\"r,c\", (row,col),(row+ks,col+ks))\n",
    "            print(image[row:row+ks,col:col+ks].shape)\n",
    "            one=image[row:row+ks,col:col+ks]\n",
    "            two=weight\n",
    "            print(\"one.shape\", one.shape, \"two.shape\", two.shape)\n",
    "            out[row,col] = np.multiply(one,two).sum()\n",
    "    return out\n",
    "    \n",
    "ansconv = ans_conv2d(weight[0],img)\n",
    "ansconv"
   ]
  },
  {
   "cell_type": "code",
   "execution_count": 109,
   "id": "c00f3d3f",
   "metadata": {},
   "outputs": [
    {
     "data": {
      "text/plain": [
       "array([[[[ 0.05938473,  0.00609151],\n",
       "         [ 0.06074885, -0.00986997]]]])"
      ]
     },
     "execution_count": 109,
     "metadata": {},
     "output_type": "execute_result"
    }
   ],
   "source": [
    "assert ansconv.all() == out.all()\n",
    "out"
   ]
  },
  {
   "cell_type": "code",
   "execution_count": null,
   "id": "645008a5",
   "metadata": {},
   "outputs": [],
   "source": []
  }
 ],
 "metadata": {
  "kernelspec": {
   "display_name": "Python 3",
   "language": "python",
   "name": "python3"
  },
  "language_info": {
   "codemirror_mode": {
    "name": "ipython",
    "version": 3
   },
   "file_extension": ".py",
   "mimetype": "text/x-python",
   "name": "python",
   "nbconvert_exporter": "python",
   "pygments_lexer": "ipython3",
   "version": "3.7.9"
  }
 },
 "nbformat": 4,
 "nbformat_minor": 5
}
