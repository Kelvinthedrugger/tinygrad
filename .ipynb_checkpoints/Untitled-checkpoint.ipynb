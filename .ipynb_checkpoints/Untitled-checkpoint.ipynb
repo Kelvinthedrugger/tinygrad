{
 "cells": [
  {
   "cell_type": "code",
   "execution_count": 1,
   "id": "585c87f2",
   "metadata": {},
   "outputs": [],
   "source": [
    "from tinygrad.tensor import *"
   ]
  },
  {
   "cell_type": "code",
   "execution_count": 14,
   "id": "d684eab5",
   "metadata": {},
   "outputs": [],
   "source": [
    "??Tensor._conv2d"
   ]
  },
  {
   "cell_type": "code",
   "execution_count": 9,
   "id": "0863e604",
   "metadata": {},
   "outputs": [],
   "source": [
    "??Function.apply"
   ]
  },
  {
   "cell_type": "code",
   "execution_count": 12,
   "id": "f90c5325",
   "metadata": {},
   "outputs": [],
   "source": [
    "??Tensor"
   ]
  },
  {
   "cell_type": "code",
   "execution_count": 13,
   "id": "86f8433d",
   "metadata": {},
   "outputs": [],
   "source": [
    "??Function"
   ]
  },
  {
   "cell_type": "code",
   "execution_count": null,
   "id": "cc852728",
   "metadata": {},
   "outputs": [],
   "source": [
    "# winograd 2x3 for 1D works"
   ]
  },
  {
   "cell_type": "code",
   "execution_count": 1,
   "id": "3115e967",
   "metadata": {},
   "outputs": [],
   "source": [
    "import numpy as np\n",
    "\n",
    "# d: input, g: filter (weight)\n",
    "# 2, 3\n",
    "def wino_1D(g,d):\n",
    "    At = np.array([[1,1,1,0],[0,1,-1,-1]])\n",
    "    Bt = np.array([[1,0,-1,0],[0,1,1,0],[0,-1,1,0],[0,1,0,-1]])\n",
    "    G = np.array([[1,0,0],[0.5,0.5,0.5],[0.5,-0.5,0.5],[0,0,1]])\n",
    "    g = np.array(g).T\n",
    "    d = np.array(d).T\n",
    "\n",
    "    return At @ ( np.multiply( (G @ g), (Bt @ d) ) )\n",
    "\n",
    "def ans_1D(g,d):\n",
    "    return [g[0]*d[0]+g[1]*d[1]+g[2]*d[2], g[0]*d[1]+g[1]*d[2]+g[2]*d[3]]"
   ]
  },
  {
   "cell_type": "code",
   "execution_count": 3,
   "id": "c886bbaa",
   "metadata": {},
   "outputs": [],
   "source": [
    "g,d = [-1,0,1],[4,5,6,7]"
   ]
  },
  {
   "cell_type": "code",
   "execution_count": 4,
   "id": "46159b0f",
   "metadata": {},
   "outputs": [
    {
     "name": "stdout",
     "output_type": "stream",
     "text": [
      "[2. 2.] , answer:  [2, 2]\n"
     ]
    }
   ],
   "source": [
    "print(wino_1D(g,d),\", answer: \", ans_1D(g,d))"
   ]
  },
  {
   "cell_type": "code",
   "execution_count": null,
   "id": "dccc1fa3",
   "metadata": {},
   "outputs": [],
   "source": [
    "# create a function for mapping x to m space (aka, winograd space) //in linear algebra"
   ]
  },
  {
   "cell_type": "code",
   "execution_count": 5,
   "id": "0c54fecb",
   "metadata": {},
   "outputs": [],
   "source": [
    "def linmap(m,x):\n",
    "    print(m)\n",
    "    print(x)\n",
    "    return m.T @ x @ m"
   ]
  },
  {
   "cell_type": "code",
   "execution_count": null,
   "id": "18782585",
   "metadata": {},
   "outputs": [],
   "source": [
    "# g, d for 1D winograd"
   ]
  },
  {
   "cell_type": "code",
   "execution_count": 6,
   "id": "60df3458",
   "metadata": {},
   "outputs": [
    {
     "data": {
      "text/plain": [
       "array([[-1],\n",
       "       [ 0],\n",
       "       [ 1]])"
      ]
     },
     "execution_count": 6,
     "metadata": {},
     "output_type": "execute_result"
    }
   ],
   "source": [
    "np.array(g).reshape((3,1))"
   ]
  },
  {
   "cell_type": "code",
   "execution_count": 7,
   "id": "3878a547",
   "metadata": {},
   "outputs": [
    {
     "data": {
      "text/plain": [
       "(4, 3)"
      ]
     },
     "execution_count": 7,
     "metadata": {},
     "output_type": "execute_result"
    }
   ],
   "source": [
    "np.array([[1,0,0],[0.5,0.5,0.5],[0.5,-0.5,0.5],[0,0,1]]).shape"
   ]
  },
  {
   "cell_type": "code",
   "execution_count": null,
   "id": "6ffe7b9f",
   "metadata": {},
   "outputs": [],
   "source": [
    "# experimenting for 2D"
   ]
  },
  {
   "cell_type": "code",
   "execution_count": 8,
   "id": "73e69a76",
   "metadata": {},
   "outputs": [
    {
     "data": {
      "text/plain": [
       "array([[-1. ,  0. ,  0. ,  1. ],\n",
       "       [-1.5,  0. ,  0. ,  1.5],\n",
       "       [-0.5,  0. ,  0. ,  0.5],\n",
       "       [-1. ,  0. ,  0. ,  1. ]])"
      ]
     },
     "execution_count": 8,
     "metadata": {},
     "output_type": "execute_result"
    }
   ],
   "source": [
    "(np.array([[1,0,0],[0.5,0.5,0.5],[0.5,-0.5,0.5],[0,0,1]]) @ (np.array([g,g,g,]).reshape(3,3))) @ ((np.array([[1,0,0],[0.5,0.5,0.5],[0.5,-0.5,0.5],[0,0,1]])).T)"
   ]
  },
  {
   "cell_type": "code",
   "execution_count": null,
   "id": "f1d44d70",
   "metadata": {},
   "outputs": [],
   "source": [
    "# concat g to get the right shape, which is not the correct g,\n",
    "# 2D: F(mxm, rxr), m, r means the shape of input and filter"
   ]
  },
  {
   "cell_type": "code",
   "execution_count": 9,
   "id": "938ca946",
   "metadata": {},
   "outputs": [
    {
     "name": "stdout",
     "output_type": "stream",
     "text": [
      "[[ 1.   0.5  0.5  0. ]\n",
      " [ 0.   0.5 -0.5  0. ]\n",
      " [ 0.   0.5  0.5  1. ]]\n",
      "[[-1  0  1]\n",
      " [-1  0  1]\n",
      " [-1  0  1]]\n"
     ]
    },
    {
     "data": {
      "text/plain": [
       "array([[-1. ,  0. ,  0. ,  1. ],\n",
       "       [-1.5,  0. ,  0. ,  1.5],\n",
       "       [-0.5,  0. ,  0. ,  0.5],\n",
       "       [-1. ,  0. ,  0. ,  1. ]])"
      ]
     },
     "execution_count": 9,
     "metadata": {},
     "output_type": "execute_result"
    }
   ],
   "source": [
    "linmap(np.array([[1,0,0],[0.5,0.5,0.5],[0.5,-0.5,0.5],[0,0,1]]).T,np.array([g,g,g,]).reshape(3,3))"
   ]
  },
  {
   "cell_type": "code",
   "execution_count": 22,
   "id": "fead171b",
   "metadata": {},
   "outputs": [],
   "source": [
    "# worked\n",
    "def wino_2D(g,d):\n",
    "    At = np.array([[1,1,1,0],[0,1,-1,-1]])\n",
    "    Bt = np.array([[1,0,-1,0],[0,1,1,0],[0,-1,1,0],[0,1,0,-1]])\n",
    "    G = np.array([[1,0,0],[0.5,0.5,0.5],[0.5,-0.5,0.5],[0,0,1]])\n",
    "    #return At @ ( np.multiply( (G @ g @ G.T), (Bt @ d @ B) ) ) @ A\n",
    "    one = G @ g @ (G.T)\n",
    "    two = Bt @ d @ (Bt.T)\n",
    "    ot = np.multiply(one,two) # element-wise mul\n",
    "    return At @ ot @ (At.T)"
   ]
  },
  {
   "cell_type": "code",
   "execution_count": 23,
   "id": "9dfdc5b4",
   "metadata": {},
   "outputs": [
    {
     "data": {
      "text/plain": [
       "array([[6., 6.],\n",
       "       [6., 6.]])"
      ]
     },
     "execution_count": 23,
     "metadata": {},
     "output_type": "execute_result"
    }
   ],
   "source": [
    "wino_2D(np.array([g,g,g]).reshape(3,3),np.array([d,d,d,d]).reshape(4,4))"
   ]
  },
  {
   "cell_type": "code",
   "execution_count": 25,
   "id": "e5c805da",
   "metadata": {},
   "outputs": [
    {
     "data": {
      "text/plain": [
       "(array([[-1,  0,  1],\n",
       "        [-1,  0,  1],\n",
       "        [-1,  0,  1]]),\n",
       " array([[4, 5, 6, 7],\n",
       "        [4, 5, 6, 7],\n",
       "        [4, 5, 6, 7],\n",
       "        [4, 5, 6, 7]]))"
      ]
     },
     "execution_count": 25,
     "metadata": {},
     "output_type": "execute_result"
    }
   ],
   "source": [
    "a,b = np.array([g,g,g]).reshape(3,3), np.array([d,d,d,d]).reshape(4,4)\n",
    "a,b"
   ]
  },
  {
   "cell_type": "code",
   "execution_count": 34,
   "id": "19f18624",
   "metadata": {},
   "outputs": [
    {
     "data": {
      "text/plain": [
       "array([[6., 6.],\n",
       "       [6., 6.]])"
      ]
     },
     "execution_count": 34,
     "metadata": {},
     "output_type": "execute_result"
    }
   ],
   "source": [
    "def ans_2D(g,d):\n",
    "    row = d.shape[0] - g.shape[0] + 1\n",
    "    col = d.shape[1] - g.shape[1] + 1\n",
    "    # print(row,col) (2,2)\n",
    "    st = 1 # step\n",
    "    ks = g.shape[0] # kernel size in convops\n",
    "    ans = np.zeros((row,col)) # init the result mat\n",
    "    for r in range(0,row,st):\n",
    "        for c in range(0,col,st):\n",
    "            # print(d[r:ks,c:ks])\n",
    "            ans[r,c] = np.multiply(g,d[r:r+ks,c:c+ks]).sum()\n",
    "    \n",
    "    return ans\n",
    "    \n",
    "ans_2D(a,b)"
   ]
  },
  {
   "cell_type": "code",
   "execution_count": null,
   "id": "300692b7",
   "metadata": {},
   "outputs": [],
   "source": []
  }
 ],
 "metadata": {
  "kernelspec": {
   "display_name": "Python 3",
   "language": "python",
   "name": "python3"
  },
  "language_info": {
   "codemirror_mode": {
    "name": "ipython",
    "version": 3
   },
   "file_extension": ".py",
   "mimetype": "text/x-python",
   "name": "python",
   "nbconvert_exporter": "python",
   "pygments_lexer": "ipython3",
   "version": "3.7.9"
  }
 },
 "nbformat": 4,
 "nbformat_minor": 5
}
