{
 "cells": [
  {
   "cell_type": "code",
   "execution_count": 1,
   "id": "585c87f2",
   "metadata": {},
   "outputs": [],
   "source": [
    "#from tinygrad.tensor import *"
   ]
  },
  {
   "cell_type": "code",
   "execution_count": 2,
   "id": "d684eab5",
   "metadata": {},
   "outputs": [],
   "source": [
    "#??Tensor._conv2d ## shows detach()?"
   ]
  },
  {
   "cell_type": "code",
   "execution_count": 3,
   "id": "0863e604",
   "metadata": {},
   "outputs": [],
   "source": [
    "#??Function.apply"
   ]
  },
  {
   "cell_type": "code",
   "execution_count": 4,
   "id": "f90c5325",
   "metadata": {},
   "outputs": [],
   "source": [
    "#??Tensor"
   ]
  },
  {
   "cell_type": "code",
   "execution_count": 5,
   "id": "86f8433d",
   "metadata": {},
   "outputs": [],
   "source": [
    "#??Function"
   ]
  },
  {
   "cell_type": "code",
   "execution_count": 6,
   "id": "044bcce1",
   "metadata": {},
   "outputs": [],
   "source": [
    "# don't delete above\n",
    "# we mostly starts from here instead of the tinygrad thing"
   ]
  },
  {
   "cell_type": "code",
   "execution_count": 7,
   "id": "cc852728",
   "metadata": {},
   "outputs": [],
   "source": [
    "# winograd 2x3 for 1D works"
   ]
  },
  {
   "cell_type": "code",
   "execution_count": 8,
   "id": "3115e967",
   "metadata": {},
   "outputs": [],
   "source": [
    "import numpy as np\n",
    "\n",
    "# d: input, g: filter (weight)\n",
    "# 2, 3\n",
    "def wino_1D(g,d):\n",
    "    At = np.array([[1,1,1,0],[0,1,-1,-1]])\n",
    "    Bt = np.array([[1,0,-1,0],[0,1,1,0],[0,-1,1,0],[0,1,0,-1]])\n",
    "    G = np.array([[1,0,0],[0.5,0.5,0.5],[0.5,-0.5,0.5],[0,0,1]])\n",
    "    g = np.array(g).T\n",
    "    d = np.array(d).T\n",
    "\n",
    "    return At @ ( np.multiply( (G @ g), (Bt @ d) ) )\n",
    "\n",
    "def ans_1D(g,d):\n",
    "    return [g[0]*d[0]+g[1]*d[1]+g[2]*d[2], g[0]*d[1]+g[1]*d[2]+g[2]*d[3]]"
   ]
  },
  {
   "cell_type": "code",
   "execution_count": 9,
   "id": "9aeaf10f",
   "metadata": {},
   "outputs": [],
   "source": [
    "g,d = [-1,0,1],[4,5,6,7]"
   ]
  },
  {
   "cell_type": "code",
   "execution_count": 10,
   "id": "46159b0f",
   "metadata": {},
   "outputs": [
    {
     "name": "stdout",
     "output_type": "stream",
     "text": [
      "[2. 2.] , answer:  [2, 2]\n"
     ]
    }
   ],
   "source": [
    "print(wino_1D(g,d),\", answer: \", ans_1D(g,d))"
   ]
  },
  {
   "cell_type": "code",
   "execution_count": 11,
   "id": "dccc1fa3",
   "metadata": {},
   "outputs": [],
   "source": [
    "# create a function for mapping x to m space (aka, winograd space) //in linear algebra"
   ]
  },
  {
   "cell_type": "code",
   "execution_count": 12,
   "id": "0c54fecb",
   "metadata": {},
   "outputs": [],
   "source": [
    "def linmap(m,x):\n",
    "    print(m)\n",
    "    print(x)\n",
    "    return m.T @ x @ m"
   ]
  },
  {
   "cell_type": "code",
   "execution_count": 13,
   "id": "18782585",
   "metadata": {},
   "outputs": [],
   "source": [
    "# g, d for 1D winograd"
   ]
  },
  {
   "cell_type": "code",
   "execution_count": 14,
   "id": "60df3458",
   "metadata": {},
   "outputs": [
    {
     "data": {
      "text/plain": [
       "array([[-1],\n",
       "       [ 0],\n",
       "       [ 1]])"
      ]
     },
     "execution_count": 14,
     "metadata": {},
     "output_type": "execute_result"
    }
   ],
   "source": [
    "np.array(g).reshape((3,1))"
   ]
  },
  {
   "cell_type": "code",
   "execution_count": 15,
   "id": "3878a547",
   "metadata": {},
   "outputs": [
    {
     "data": {
      "text/plain": [
       "(4, 3)"
      ]
     },
     "execution_count": 15,
     "metadata": {},
     "output_type": "execute_result"
    }
   ],
   "source": [
    "np.array([[1,0,0],[0.5,0.5,0.5],[0.5,-0.5,0.5],[0,0,1]]).shape"
   ]
  },
  {
   "cell_type": "code",
   "execution_count": 16,
   "id": "6ffe7b9f",
   "metadata": {},
   "outputs": [],
   "source": [
    "# experimenting for 2D"
   ]
  },
  {
   "cell_type": "code",
   "execution_count": 17,
   "id": "73e69a76",
   "metadata": {},
   "outputs": [
    {
     "data": {
      "text/plain": [
       "array([[-1. ,  0. ,  0. ,  1. ],\n",
       "       [-1.5,  0. ,  0. ,  1.5],\n",
       "       [-0.5,  0. ,  0. ,  0.5],\n",
       "       [-1. ,  0. ,  0. ,  1. ]])"
      ]
     },
     "execution_count": 17,
     "metadata": {},
     "output_type": "execute_result"
    }
   ],
   "source": [
    "(np.array([[1,0,0],[0.5,0.5,0.5],[0.5,-0.5,0.5],[0,0,1]]) @ (np.array([g,g,g,]).reshape(3,3))) @ ((np.array([[1,0,0],[0.5,0.5,0.5],[0.5,-0.5,0.5],[0,0,1]])).T)"
   ]
  },
  {
   "cell_type": "code",
   "execution_count": 18,
   "id": "f1d44d70",
   "metadata": {},
   "outputs": [],
   "source": [
    "# concat g to get the right shape, which is not the correct g,\n",
    "# 2D: F(mxm, rxr), m, r means the shape of input and filter"
   ]
  },
  {
   "cell_type": "code",
   "execution_count": 19,
   "id": "938ca946",
   "metadata": {},
   "outputs": [
    {
     "name": "stdout",
     "output_type": "stream",
     "text": [
      "[[ 1.   0.5  0.5  0. ]\n",
      " [ 0.   0.5 -0.5  0. ]\n",
      " [ 0.   0.5  0.5  1. ]]\n",
      "[[-1  0  1]\n",
      " [-1  0  1]\n",
      " [-1  0  1]]\n"
     ]
    },
    {
     "data": {
      "text/plain": [
       "array([[-1. ,  0. ,  0. ,  1. ],\n",
       "       [-1.5,  0. ,  0. ,  1.5],\n",
       "       [-0.5,  0. ,  0. ,  0.5],\n",
       "       [-1. ,  0. ,  0. ,  1. ]])"
      ]
     },
     "execution_count": 19,
     "metadata": {},
     "output_type": "execute_result"
    }
   ],
   "source": [
    "linmap(np.array([[1,0,0],[0.5,0.5,0.5],[0.5,-0.5,0.5],[0,0,1]]).T,np.array([g,g,g,]).reshape(3,3))"
   ]
  },
  {
   "cell_type": "code",
   "execution_count": 20,
   "id": "fead171b",
   "metadata": {},
   "outputs": [],
   "source": [
    "# worked\n",
    "def wino_2D(g,d):\n",
    "    At = np.array([[1,1,1,0],[0,1,-1,-1]])\n",
    "    Bt = np.array([[1,0,-1,0],[0,1,1,0],[0,-1,1,0],[0,1,0,-1]])\n",
    "    G = np.array([[1,0,0],[0.5,0.5,0.5],[0.5,-0.5,0.5],[0,0,1]])\n",
    "    #return At @ ( np.multiply( (G @ g @ G.T), (Bt @ d @ B) ) ) @ A\n",
    "    one = G @ g @ (G.T)\n",
    "    two = Bt @ d @ (Bt.T)\n",
    "    ot = np.multiply(one,two) # element-wise mul\n",
    "    return At @ ot @ (At.T)"
   ]
  },
  {
   "cell_type": "code",
   "execution_count": 21,
   "id": "9dfdc5b4",
   "metadata": {},
   "outputs": [
    {
     "data": {
      "text/plain": [
       "array([[6., 6.],\n",
       "       [6., 6.]])"
      ]
     },
     "execution_count": 21,
     "metadata": {},
     "output_type": "execute_result"
    }
   ],
   "source": [
    "wino_2D(np.array([g,g,g]).reshape(3,3),np.array([d,d,d,d]).reshape(4,4))"
   ]
  },
  {
   "cell_type": "code",
   "execution_count": 22,
   "id": "e5c805da",
   "metadata": {},
   "outputs": [
    {
     "data": {
      "text/plain": [
       "(array([[-1,  0,  1],\n",
       "        [-1,  0,  1],\n",
       "        [-1,  0,  1]]),\n",
       " array([[4, 5, 6, 7],\n",
       "        [4, 5, 6, 7],\n",
       "        [4, 5, 6, 7],\n",
       "        [4, 5, 6, 7]]))"
      ]
     },
     "execution_count": 22,
     "metadata": {},
     "output_type": "execute_result"
    }
   ],
   "source": [
    "a,b = np.array([g,g,g]).reshape(3,3), np.array([d,d,d,d]).reshape(4,4)\n",
    "a,b"
   ]
  },
  {
   "cell_type": "code",
   "execution_count": 23,
   "id": "08141f94",
   "metadata": {},
   "outputs": [
    {
     "data": {
      "text/plain": [
       "array([[6., 6.],\n",
       "       [6., 6.]])"
      ]
     },
     "execution_count": 23,
     "metadata": {},
     "output_type": "execute_result"
    }
   ],
   "source": [
    "def ans_2D(g,d):\n",
    "    row = d.shape[0] - g.shape[0] + 1\n",
    "    col = d.shape[1] - g.shape[1] + 1\n",
    "    # print(row,col) (2,2)\n",
    "    st = 1 # step\n",
    "    ks = g.shape[0] # kernel size in convops\n",
    "    ans = np.zeros((row,col)) # init the result mat\n",
    "    for r in range(0,row,st):\n",
    "        for c in range(0,col,st):\n",
    "            # print(d[r:ks,c:ks])\n",
    "            ans[r,c] = np.multiply(g,d[r:r+ks,c:c+ks]).sum()\n",
    "    \n",
    "    return ans\n",
    "    \n",
    "ans_2D(a,b)"
   ]
  },
  {
   "cell_type": "code",
   "execution_count": 24,
   "id": "ee79cfdc",
   "metadata": {},
   "outputs": [
    {
     "name": "stdout",
     "output_type": "stream",
     "text": [
      "Object `linmap # map input vector to coloum space // linear algebra` not found.\n"
     ]
    }
   ],
   "source": [
    "# FIR filter \n",
    "# F(mxm,rxr): used in conv layer with rxr kernel\n",
    "#    size: m+r-1; overlap with neighbor: r-1\n",
    "#   -> yeilding P[H/m][W/m] tiles per channel, C\n",
    "??linmap # map input vector to coloum space // linear algebra"
   ]
  },
  {
   "cell_type": "code",
   "execution_count": 25,
   "id": "f913e627",
   "metadata": {},
   "outputs": [],
   "source": [
    "# cover the print in linmap\n",
    "\n",
    "def linmapp(M,x): return M @ x @ (M.T)\n"
   ]
  },
  {
   "cell_type": "code",
   "execution_count": 26,
   "id": "d2acda69",
   "metadata": {},
   "outputs": [],
   "source": [
    "def get_mapped_filter(G,g):\n",
    "    #return G @ g @ (G.T)\n",
    "    return linmapp(G,g)\n",
    "\n",
    "def get_mapped_input(Bt,d):\n",
    "    #return Bt @ d @ (Bt.T)\n",
    "    return linmapp(Bt,d)\n"
   ]
  },
  {
   "cell_type": "code",
   "execution_count": 27,
   "id": "8b5a9936",
   "metadata": {},
   "outputs": [],
   "source": [
    "def init(h,w,c=1):\n",
    "    return np.random.uniform(-1.,1.,size=(c,h,w))/np.sqrt(h*w)"
   ]
  },
  {
   "cell_type": "code",
   "execution_count": 28,
   "id": "dd7e4e6b",
   "metadata": {},
   "outputs": [
    {
     "data": {
      "text/plain": [
       "array([[-0.10464013,  0.1327254 ,  0.21109663],\n",
       "       [ 0.14476675, -0.32728722,  0.03372568],\n",
       "       [-0.07511133, -0.05765947, -0.21538413]])"
      ]
     },
     "execution_count": 28,
     "metadata": {},
     "output_type": "execute_result"
    }
   ],
   "source": [
    "init(3,3,1)[0]"
   ]
  },
  {
   "cell_type": "code",
   "execution_count": 29,
   "id": "58de19a4",
   "metadata": {},
   "outputs": [],
   "source": [
    "# write a general wino_m_r(m,r) ones later\n",
    "\n",
    "# attention: what's the role of #filters here?\n",
    "def wino_m2_f3_conv(image,m=2,r=3,filters=1):\n",
    "    alpha = m + r-1\n",
    "    C, H, W= image.shape\n",
    "    #print(H,W,C)\n",
    "    P = (H//m) * (W // m)\n",
    "    #print(\" H W C P\\n\", H, W, C, P)\n",
    "    K = filters\n",
    "\n",
    "    out = np.zeros((alpha,alpha))\n",
    "    # inverse transform\n",
    "    # it's A, instead of A.T actually. the \"[]\" matters\n",
    "    # add .reshape() everytime just in case\n",
    "    At = np.array([[1,1,1,0],[0,1,-1,-1]]) \n",
    "    # data, not the input !\n",
    "    Bt = np.array([[1,0,-1,0],[0,1,1,0],[0,-1,1,0],[0,1,0,-1]])\n",
    "    # filter: (alpha,r)\n",
    "    G = np.array([[1,0,0],[0.5,0.5,0.5],[0.5,-0.5,0.5],[0,0,1]])\n",
    "    \n",
    "    # d: input tile b in channel c (alpha,alpha)\n",
    "    # g: filter k in channel c (rxr)\n",
    "    g = init(3,3,K)\n",
    "    # Y: output tile b in filter k (mxm)\n",
    "    \n",
    "    # kernel transform ?\n",
    "    U = np.zeros((K,C,alpha,alpha))\n",
    "    for k in range(K):\n",
    "        for c in range(C):\n",
    "            u = get_mapped_filter(G,g[k])\n",
    "            # U ?\n",
    "            U[k,c] = u\n",
    "    #print(\"U\",U)\n",
    "    # input tiles: HARD!\n",
    "    # loop thru image tiles often means\n",
    "    #  double for-loop\n",
    "    d = image # cast to image tiles, expensive, should be improved later\n",
    "    #print(d.shape)\n",
    "    #print(d)\n",
    "    P = 1 # debug\n",
    "    V = np.zeros((C,P,alpha,alpha))\n",
    "    #\"\"\"\n",
    "    for b in range(P):\n",
    "        for c in range(C):\n",
    "            v = get_mapped_input(Bt,d[b])\n",
    "            V[c,b] = v\n",
    "#     \"\"\"\n",
    "#     for row in range(0,H//r+1):\n",
    "#         for col in range(0,W//r+1):\n",
    "#         # put channel in inner loop to move as less (i guess ?)\n",
    "#             for c in range(C):\n",
    "#                 print(d[c,row:row+r,col:col+r].shape)\n",
    "#                 v = get_mapped_input(Bt,d[c, row:row+r,col:col+r])\n",
    "#                 V[c,col+row*(W//r+1)] = v # ?\"\"\"\n",
    "    #print(\"V\", V)\n",
    "    # output, pretty confusing\n",
    "    # P is really weird\n",
    "    M = np.multiply(U,V)\n",
    "    #print(\"M\",M)\n",
    "    #Y = linmap(At.T,M) # debug version of linmapp(), identically besides print option\n",
    "    Y = linmapp(At,M)\n",
    "    # output\n",
    "#     M = np.zeros((K,P))\n",
    "#     for e in range(K):\n",
    "#         for v in range(P):\n",
    "#             M[e,v] = np.multiply(U[e,v], V[e,v])\n",
    "#     print(\"M\",M)\n",
    "    \n",
    "#     Y = np.zeros((K,P))\n",
    "#     for k in range(K):\n",
    "#         for b in range(P):\n",
    "#             m = M[k,b]\n",
    "#             Y[k,b] = linmap(At,m)\n",
    "#     print(\"Y\",Y)\n",
    "    return Y, g # returning weight for reproducibility"
   ]
  },
  {
   "cell_type": "code",
   "execution_count": 30,
   "id": "401fcc45",
   "metadata": {},
   "outputs": [
    {
     "data": {
      "text/plain": [
       "array([[[ 0.01476376, -0.18289555, -0.24749545, -0.06157933],\n",
       "        [-0.22137692, -0.1938009 , -0.08810486,  0.24928296],\n",
       "        [ 0.07470072, -0.02767828,  0.12577597, -0.18725356],\n",
       "        [ 0.12172669,  0.09270212,  0.1256345 ,  0.0714441 ]]])"
      ]
     },
     "execution_count": 30,
     "metadata": {},
     "output_type": "execute_result"
    }
   ],
   "source": [
    "image = init(4,4,1)\n",
    "image"
   ]
  },
  {
   "cell_type": "code",
   "execution_count": 31,
   "id": "d4326260",
   "metadata": {},
   "outputs": [
    {
     "data": {
      "text/plain": [
       "array([[[[-0.01363331, -0.00242256],\n",
       "         [-0.12139371, -0.00074104]]]])"
      ]
     },
     "execution_count": 31,
     "metadata": {},
     "output_type": "execute_result"
    }
   ],
   "source": [
    "out, weight = wino_m2_f3_conv(image)\n",
    "out"
   ]
  },
  {
   "cell_type": "code",
   "execution_count": 32,
   "id": "17c52274",
   "metadata": {},
   "outputs": [
    {
     "data": {
      "text/plain": [
       "array([[[ 3.05017231e-01, -3.03322481e-02,  9.25847093e-03],\n",
       "        [-2.34868459e-01,  2.86024839e-01, -1.03174594e-01],\n",
       "        [ 1.38442159e-01, -9.84742312e-06, -2.97254574e-01]]])"
      ]
     },
     "execution_count": 32,
     "metadata": {},
     "output_type": "execute_result"
    }
   ],
   "source": [
    "weight"
   ]
  },
  {
   "cell_type": "code",
   "execution_count": 33,
   "id": "603bf2b6",
   "metadata": {},
   "outputs": [
    {
     "data": {
      "text/plain": [
       "(1, 4, 4)"
      ]
     },
     "execution_count": 33,
     "metadata": {},
     "output_type": "execute_result"
    }
   ],
   "source": [
    "image.shape"
   ]
  },
  {
   "cell_type": "code",
   "execution_count": 34,
   "id": "dd236f74",
   "metadata": {},
   "outputs": [
    {
     "data": {
      "text/plain": [
       "array([[ 0.01476376, -0.18289555, -0.24749545, -0.06157933],\n",
       "       [-0.22137692, -0.1938009 , -0.08810486,  0.24928296],\n",
       "       [ 0.07470072, -0.02767828,  0.12577597, -0.18725356]])"
      ]
     },
     "execution_count": 34,
     "metadata": {},
     "output_type": "execute_result"
    }
   ],
   "source": [
    "image[0][0:3][0:3]"
   ]
  },
  {
   "cell_type": "code",
   "execution_count": 35,
   "id": "1ff7040a",
   "metadata": {},
   "outputs": [
    {
     "data": {
      "text/plain": [
       "((4, 4), (3, 4))"
      ]
     },
     "execution_count": 35,
     "metadata": {},
     "output_type": "execute_result"
    }
   ],
   "source": [
    "img = image.reshape((4,4))\n",
    "img.shape, img[0:3][0:3].shape"
   ]
  },
  {
   "cell_type": "code",
   "execution_count": 36,
   "id": "b928cde2",
   "metadata": {},
   "outputs": [
    {
     "data": {
      "text/plain": [
       "array([[ 0.01476376, -0.18289555, -0.24749545],\n",
       "       [-0.22137692, -0.1938009 , -0.08810486],\n",
       "       [ 0.07470072, -0.02767828,  0.12577597]])"
      ]
     },
     "execution_count": 36,
     "metadata": {},
     "output_type": "execute_result"
    }
   ],
   "source": [
    "img[0:3,0:3]"
   ]
  },
  {
   "cell_type": "code",
   "execution_count": 37,
   "id": "65d36637",
   "metadata": {},
   "outputs": [
    {
     "data": {
      "text/plain": [
       "(3, 3)"
      ]
     },
     "execution_count": 37,
     "metadata": {},
     "output_type": "execute_result"
    }
   ],
   "source": [
    "weight[0].shape"
   ]
  },
  {
   "cell_type": "code",
   "execution_count": 38,
   "id": "4c3b22ef",
   "metadata": {},
   "outputs": [
    {
     "data": {
      "text/plain": [
       "array([[-0.01363331, -0.00242256],\n",
       "       [-0.12139371, -0.00074104]])"
      ]
     },
     "execution_count": 38,
     "metadata": {},
     "output_type": "execute_result"
    }
   ],
   "source": [
    "def ans_conv2d(weight,image):\n",
    "    st = 1 # step\n",
    "    ks = weight[0].shape[0] # kernel size\n",
    "    #print(ks)\n",
    "    H,W = image.shape\n",
    "    outsize = H - ks + 1 # output size\n",
    "    #print(\"outsize\", outsize)\n",
    "    out = np.zeros((outsize,outsize))\n",
    "    for row in range(0,outsize,st):\n",
    "        for col in range(0,outsize,st):\n",
    "            #print(\"r,c\", (row,col),(row+ks,col+ks))\n",
    "            #print(image[row:row+ks,col:col+ks].shape)\n",
    "            one=image[row:row+ks,col:col+ks]\n",
    "            two=weight\n",
    "            #print(\"one.shape\", one.shape, \"two.shape\", two.shape)\n",
    "            out[row,col] = np.multiply(one,two).sum()\n",
    "    return out\n",
    "    \n",
    "ansconv = ans_conv2d(weight[0],img)\n",
    "ansconv"
   ]
  },
  {
   "cell_type": "code",
   "execution_count": 39,
   "id": "47be7eea",
   "metadata": {},
   "outputs": [
    {
     "data": {
      "text/plain": [
       "array([[[[-0.01363331, -0.00242256],\n",
       "         [-0.12139371, -0.00074104]]]])"
      ]
     },
     "execution_count": 39,
     "metadata": {},
     "output_type": "execute_result"
    }
   ],
   "source": [
    "assert ansconv.all() == out.all()\n",
    "out"
   ]
  },
  {
   "cell_type": "code",
   "execution_count": 40,
   "id": "392f0137",
   "metadata": {},
   "outputs": [
    {
     "name": "stdout",
     "output_type": "stream",
     "text": [
      "wino: 0.40996599197387695\n",
      "ans: 0.33700132369995117\n"
     ]
    }
   ],
   "source": [
    "# test the speed of winograd vs regular conv\n",
    "from time import time as t\n",
    "epochs = 10000\n",
    "st1 = t()\n",
    "for _ in range(epochs):\n",
    "    tmpimg = np.random.uniform(-1.,1.,size=(1,4,4))/np.sqrt(4*4)#init(4,4,1)\n",
    "    wino_m2_f3_conv(tmpimg)\n",
    "ed1 = t()\n",
    "st2 = t()\n",
    "for _ in range(epochs):\n",
    "    #tmp = init(4,4)\n",
    "    tmp = np.random.uniform(-1.,1.,size=(4,4))/np.sqrt(4*4)\n",
    "    wt = init(3,3)\n",
    "    ans_conv2d(wt,tmp)\n",
    "ed2 = t()\n",
    "# re-writing data in python is not a good idea\n",
    "print(\"wino:\", (ed1-st1))\n",
    "print(\"ans:\", (ed2-st2))"
   ]
  },
  {
   "cell_type": "code",
   "execution_count": 41,
   "id": "18788dd6",
   "metadata": {},
   "outputs": [],
   "source": [
    "# convolution using winograd on image\n",
    "def ConvWinograd(image,weight,m=2,r=3):\n",
    "    # a = m+r-1: input size\n",
    "    # m: output size\n",
    "    H,W = image.size\n",
    "    a = image.size[0] # a = H = W if it's a square\n",
    "    if weight is None:\n",
    "        weight = init(3,3)\n",
    "    else:\n",
    "        r = weight.shape[0]\n",
    "        m = a-(r-1)\n",
    "        \n",
    "    # output tiles, = (4/2)*(4/2) = 4 if input size = (4,4)\n",
    "    # , which is not what we've seen in the previous example\n",
    "    #P = (H//m)*(W//m) \n",
    "    ...\n",
    "    \n",
    "    "
   ]
  },
  {
   "cell_type": "code",
   "execution_count": null,
   "id": "fbb38876",
   "metadata": {},
   "outputs": [],
   "source": []
  },
  {
   "cell_type": "code",
   "execution_count": 43,
   "id": "7694af18",
   "metadata": {},
   "outputs": [],
   "source": [
    "# from https://blog.csdn.net/qq_40268672/article/details/116563105\n"
   ]
  },
  {
   "cell_type": "code",
   "execution_count": 45,
   "id": "2a82ac22",
   "metadata": {},
   "outputs": [
    {
     "name": "stdout",
     "output_type": "stream",
     "text": [
      "(4, 4) (4, 4)\n",
      "(4, 4) (4, 4)\n",
      "(4, 4) (4, 4)\n",
      "(4, 4) (4, 4)\n",
      "(4, 4) (4, 4)\n",
      "(4, 4) (4, 4)\n",
      "(4, 4) (2, 4)\n"
     ]
    },
    {
     "ename": "ValueError",
     "evalue": "matmul: Input operand 1 has a mismatch in its core dimension 0, with gufunc signature (n?,k),(k,m?)->(n?,m?) (size 2 is different from 4)",
     "output_type": "error",
     "traceback": [
      "\u001b[1;31m---------------------------------------------------------------------------\u001b[0m",
      "\u001b[1;31mValueError\u001b[0m                                Traceback (most recent call last)",
      "\u001b[1;32m<ipython-input-45-2ec7ebd9580a>\u001b[0m in \u001b[0;36m<module>\u001b[1;34m\u001b[0m\n\u001b[0;32m     95\u001b[0m \u001b[0mW\u001b[0m \u001b[1;33m=\u001b[0m \u001b[0mnp\u001b[0m\u001b[1;33m.\u001b[0m\u001b[0mrandom\u001b[0m\u001b[1;33m.\u001b[0m\u001b[0mrandint\u001b[0m\u001b[1;33m(\u001b[0m\u001b[0mlow\u001b[0m\u001b[1;33m=\u001b[0m\u001b[1;36m0\u001b[0m\u001b[1;33m,\u001b[0m\u001b[0mhigh\u001b[0m\u001b[1;33m=\u001b[0m\u001b[1;36m100\u001b[0m\u001b[1;33m,\u001b[0m\u001b[0msize\u001b[0m\u001b[1;33m=\u001b[0m\u001b[1;33m(\u001b[0m\u001b[0mchout\u001b[0m\u001b[1;33m,\u001b[0m\u001b[0mchin\u001b[0m\u001b[1;33m,\u001b[0m\u001b[1;36m3\u001b[0m\u001b[1;33m,\u001b[0m\u001b[1;36m3\u001b[0m\u001b[1;33m)\u001b[0m\u001b[1;33m)\u001b[0m\u001b[1;33m\u001b[0m\u001b[1;33m\u001b[0m\u001b[0m\n\u001b[0;32m     96\u001b[0m \u001b[1;33m\u001b[0m\u001b[0m\n\u001b[1;32m---> 97\u001b[1;33m \u001b[0mprint\u001b[0m\u001b[1;33m(\u001b[0m\u001b[0mnp\u001b[0m\u001b[1;33m.\u001b[0m\u001b[0mmax\u001b[0m\u001b[1;33m(\u001b[0m\u001b[0mnp\u001b[0m\u001b[1;33m.\u001b[0m\u001b[0mabs\u001b[0m\u001b[1;33m(\u001b[0m\u001b[0mconv\u001b[0m\u001b[1;33m(\u001b[0m\u001b[0mX\u001b[0m\u001b[1;33m,\u001b[0m\u001b[0mW\u001b[0m\u001b[1;33m)\u001b[0m\u001b[1;33m-\u001b[0m\u001b[0mwinograd2\u001b[0m\u001b[1;33m(\u001b[0m\u001b[0mX\u001b[0m\u001b[1;33m,\u001b[0m\u001b[0mW\u001b[0m\u001b[1;33m)\u001b[0m\u001b[1;33m)\u001b[0m\u001b[1;33m)\u001b[0m\u001b[1;33m)\u001b[0m\u001b[1;33m\u001b[0m\u001b[1;33m\u001b[0m\u001b[0m\n\u001b[0m\u001b[0;32m     98\u001b[0m \u001b[1;33m\u001b[0m\u001b[0m\n\u001b[0;32m     99\u001b[0m \u001b[1;33m\u001b[0m\u001b[0m\n",
      "\u001b[1;32m<ipython-input-45-2ec7ebd9580a>\u001b[0m in \u001b[0;36mwinograd2\u001b[1;34m(x, f)\u001b[0m\n\u001b[0;32m     69\u001b[0m       \u001b[0mc\u001b[0m \u001b[1;33m=\u001b[0m \u001b[0mbb\u001b[0m\u001b[1;33m%\u001b[0m\u001b[1;33m(\u001b[0m\u001b[0mw_o\u001b[0m\u001b[1;33m//\u001b[0m\u001b[1;36m2\u001b[0m\u001b[1;33m)\u001b[0m\u001b[1;33m\u001b[0m\u001b[1;33m\u001b[0m\u001b[0m\n\u001b[0;32m     70\u001b[0m       \u001b[0mtile\u001b[0m \u001b[1;33m=\u001b[0m \u001b[0mx\u001b[0m\u001b[1;33m[\u001b[0m\u001b[0mnn\u001b[0m\u001b[1;33m,\u001b[0m\u001b[0mr\u001b[0m\u001b[1;33m*\u001b[0m\u001b[1;36m2\u001b[0m\u001b[1;33m:\u001b[0m\u001b[0mr\u001b[0m\u001b[1;33m*\u001b[0m\u001b[1;36m2\u001b[0m\u001b[1;33m+\u001b[0m\u001b[0ml\u001b[0m\u001b[1;33m,\u001b[0m\u001b[0mc\u001b[0m\u001b[1;33m*\u001b[0m\u001b[1;36m2\u001b[0m\u001b[1;33m:\u001b[0m\u001b[0mc\u001b[0m\u001b[1;33m*\u001b[0m\u001b[1;36m2\u001b[0m\u001b[1;33m+\u001b[0m\u001b[0ml\u001b[0m\u001b[1;33m]\u001b[0m\u001b[1;33m\u001b[0m\u001b[1;33m\u001b[0m\u001b[0m\n\u001b[1;32m---> 71\u001b[1;33m       \u001b[0mV\u001b[0m\u001b[1;33m[\u001b[0m\u001b[0mnn\u001b[0m\u001b[1;33m,\u001b[0m\u001b[0mbb\u001b[0m\u001b[1;33m,\u001b[0m\u001b[1;33m:\u001b[0m\u001b[1;33m,\u001b[0m\u001b[1;33m:\u001b[0m\u001b[1;33m]\u001b[0m \u001b[1;33m=\u001b[0m \u001b[0mFT\u001b[0m\u001b[1;33m(\u001b[0m\u001b[0mtile\u001b[0m\u001b[1;33m)\u001b[0m\u001b[1;33m\u001b[0m\u001b[1;33m\u001b[0m\u001b[0m\n\u001b[0m\u001b[0;32m     72\u001b[0m \u001b[1;33m\u001b[0m\u001b[0m\n\u001b[0;32m     73\u001b[0m   \u001b[1;32mfor\u001b[0m \u001b[0mmm\u001b[0m \u001b[1;32min\u001b[0m \u001b[0mrange\u001b[0m\u001b[1;33m(\u001b[0m\u001b[0ml\u001b[0m\u001b[1;33m)\u001b[0m\u001b[1;33m:\u001b[0m\u001b[1;33m\u001b[0m\u001b[1;33m\u001b[0m\u001b[0m\n",
      "\u001b[1;32m<ipython-input-45-2ec7ebd9580a>\u001b[0m in \u001b[0;36mFT\u001b[1;34m(x)\u001b[0m\n\u001b[0;32m      4\u001b[0m   \u001b[0mB\u001b[0m \u001b[1;33m=\u001b[0m \u001b[0mnp\u001b[0m\u001b[1;33m.\u001b[0m\u001b[0marray\u001b[0m\u001b[1;33m(\u001b[0m\u001b[1;33m[\u001b[0m\u001b[1;33m[\u001b[0m\u001b[1;36m1\u001b[0m\u001b[1;33m,\u001b[0m\u001b[1;36m0\u001b[0m\u001b[1;33m,\u001b[0m\u001b[1;36m0\u001b[0m\u001b[1;33m,\u001b[0m\u001b[1;36m0\u001b[0m\u001b[1;33m]\u001b[0m\u001b[1;33m,\u001b[0m\u001b[1;33m[\u001b[0m\u001b[1;36m0\u001b[0m\u001b[1;33m,\u001b[0m\u001b[1;36m1\u001b[0m\u001b[1;33m,\u001b[0m\u001b[1;33m-\u001b[0m\u001b[1;36m1\u001b[0m\u001b[1;33m,\u001b[0m\u001b[1;33m-\u001b[0m\u001b[1;36m1\u001b[0m\u001b[1;33m]\u001b[0m\u001b[1;33m,\u001b[0m\u001b[1;33m[\u001b[0m\u001b[1;33m-\u001b[0m\u001b[1;36m1\u001b[0m\u001b[1;33m,\u001b[0m\u001b[1;36m1\u001b[0m\u001b[1;33m,\u001b[0m\u001b[1;36m1\u001b[0m\u001b[1;33m,\u001b[0m\u001b[1;36m0\u001b[0m\u001b[1;33m]\u001b[0m\u001b[1;33m,\u001b[0m\u001b[1;33m[\u001b[0m\u001b[1;36m0\u001b[0m\u001b[1;33m,\u001b[0m\u001b[1;36m0\u001b[0m\u001b[1;33m,\u001b[0m\u001b[1;36m0\u001b[0m\u001b[1;33m,\u001b[0m\u001b[1;36m1\u001b[0m\u001b[1;33m]\u001b[0m\u001b[1;33m]\u001b[0m\u001b[1;33m)\u001b[0m\u001b[1;33m\u001b[0m\u001b[1;33m\u001b[0m\u001b[0m\n\u001b[0;32m      5\u001b[0m   \u001b[0mprint\u001b[0m\u001b[1;33m(\u001b[0m\u001b[0mB\u001b[0m\u001b[1;33m.\u001b[0m\u001b[0mshape\u001b[0m\u001b[1;33m,\u001b[0m\u001b[0mx\u001b[0m\u001b[1;33m.\u001b[0m\u001b[0mshape\u001b[0m\u001b[1;33m)\u001b[0m\u001b[1;33m\u001b[0m\u001b[1;33m\u001b[0m\u001b[0m\n\u001b[1;32m----> 6\u001b[1;33m   \u001b[1;32mreturn\u001b[0m \u001b[0mnp\u001b[0m\u001b[1;33m.\u001b[0m\u001b[0mmatmul\u001b[0m\u001b[1;33m(\u001b[0m\u001b[0mnp\u001b[0m\u001b[1;33m.\u001b[0m\u001b[0mmatmul\u001b[0m\u001b[1;33m(\u001b[0m\u001b[0mB\u001b[0m\u001b[1;33m.\u001b[0m\u001b[0mT\u001b[0m\u001b[1;33m,\u001b[0m\u001b[0mx\u001b[0m\u001b[1;33m)\u001b[0m\u001b[1;33m,\u001b[0m\u001b[0mB\u001b[0m\u001b[1;33m)\u001b[0m\u001b[1;33m\u001b[0m\u001b[1;33m\u001b[0m\u001b[0m\n\u001b[0m\u001b[0;32m      7\u001b[0m \u001b[1;33m\u001b[0m\u001b[0m\n\u001b[0;32m      8\u001b[0m \u001b[1;32mdef\u001b[0m \u001b[0mWT\u001b[0m\u001b[1;33m(\u001b[0m\u001b[0mx\u001b[0m\u001b[1;33m)\u001b[0m\u001b[1;33m:\u001b[0m\u001b[1;33m\u001b[0m\u001b[1;33m\u001b[0m\u001b[0m\n",
      "\u001b[1;31mValueError\u001b[0m: matmul: Input operand 1 has a mismatch in its core dimension 0, with gufunc signature (n?,k),(k,m?)->(n?,m?) (size 2 is different from 4)"
     ]
    }
   ],
   "source": [
    "import numpy as np\n",
    "\n",
    "def FT(x):\n",
    "  B = np.array([[1,0,0,0],[0,1,-1,-1],[-1,1,1,0],[0,0,0,1]])\n",
    "  print(B.shape,x.shape)\n",
    "  return np.matmul(np.matmul(B.T,x),B)\n",
    "\n",
    "def WT(x):\n",
    "  A = np.array([[1,0,0],[0.5,0.5,0.5],[0.5,-0.5,0.5],[0,0,1]])\n",
    "  return np.matmul(np.matmul(A,x),A.T)\n",
    "\n",
    "def RT(x):\n",
    "  A = np.array([[1,0],[1,1,],[1,-1],[0,1]])\n",
    "  return np.matmul(np.matmul(A.T,x),A)\n",
    "\n",
    "\n",
    "def conv2d(x,w):\n",
    "  n = x.shape[0]\n",
    "  r = w.shape[0]\n",
    "  m=n-r+1\n",
    "  out = np.zeros((m,n))\n",
    "  for i in range(m):\n",
    "    for j in range(n):\n",
    "      out[i,j] = np.multiply(w,x[i:i+r,j:j+r]).sum()\n",
    "  return out\n",
    "\n",
    "\n",
    "def conv(x,f):\n",
    "  c,h,w = x.shape\n",
    "  n,c,k,k = f.shape\n",
    "  h_o = h-k+1\n",
    "  w_o = w-k+1\n",
    "  out = np.zeros((n,h_o,w_o))\n",
    "  for i in range(h_o):\n",
    "    for j in range(w_o):\n",
    "      for nn in range(n):\n",
    "        out[nn,i,j] = np.multiply(f[nn],x[:,i:i+k,j:j+k]).sum()\n",
    "  return out\n",
    "\n",
    "\n",
    "def winograd1(x,w):\n",
    "  U = FT(w)\n",
    "  V = FT(x)\n",
    "  Q = np.multiply(U,V)\n",
    "  return RT(Q)\n",
    "\n",
    "\n",
    "def winograd2(x,f):\n",
    "  n,h,w = x.shape\n",
    "  m,n,kx,ky= f.shape\n",
    "  assert kx == ky == 3\n",
    "  h_o = h-kx+1\n",
    "  w_o = w-ky+1\n",
    "\n",
    "  l = 4 # (h//m)*(w//m) ?\n",
    "  b = (h//2)*(w//2)\n",
    "  U = np.zeros((m,n,l,l))\n",
    "  V = np.zeros((n,b,l,l))\n",
    "  Q = np.zeros((m,b,l,l))\n",
    "  Y = np.zeros((m,b,2,2))\n",
    "\n",
    "  for mm in range(m):\n",
    "    for nn in range(n):\n",
    "      U[mm,nn] = WT(f[mm,nn,:,:])\n",
    "\n",
    "  for nn in range(n):\n",
    "    for bb in range(b):\n",
    "      r = bb//(w_o//2)\n",
    "      c = bb%(w_o//2)\n",
    "      tile = x[nn,r*2:r*2+l,c*2:c*2+l]\n",
    "      # fucking shape problem\n",
    "      V[nn,bb,:,:] = FT(tile)\n",
    "\n",
    "  for mm in range(l):\n",
    "    for nn in range(l):\n",
    "      Q[:,:,mm,nn] = U[:,:,i,j] @ V[:,:,i,j]\n",
    "\n",
    "  O = np.zeros((m,h_o,w_o))\n",
    "  for mm in range(m):\n",
    "    for nn in range(b):\n",
    "      for _ in range(4):\n",
    "        r = bb//(w_o//2)\n",
    "        c = bb%(w_o//2)\n",
    "        O[mm,2*r:2*r+2,2*c:2*c+2] = Y[mm,bb]\n",
    "\n",
    "  return O\n",
    "\n",
    "d = np.random.randint(low=0,high=30,size=(4,4))\n",
    "g = np.random.randint(low=0,high=20,size=(3,3))\n",
    "\n",
    "chin, chout = 8,10\n",
    "height=8\n",
    "width=6\n",
    "\n",
    "X = np.random.randint(low=0,high=100,size=(chin,height,width))\n",
    "W = np.random.randint(low=0,high=100,size=(chout,chin,3,3))\n",
    "\n",
    "print(np.max(np.abs(conv(X,W)-winograd2(X,W))))\n",
    "\n",
    "\n"
   ]
  },
  {
   "cell_type": "code",
   "execution_count": null,
   "id": "e31e32a5",
   "metadata": {},
   "outputs": [],
   "source": []
  }
 ],
 "metadata": {
  "kernelspec": {
   "display_name": "Python 3",
   "language": "python",
   "name": "python3"
  },
  "language_info": {
   "codemirror_mode": {
    "name": "ipython",
    "version": 3
   },
   "file_extension": ".py",
   "mimetype": "text/x-python",
   "name": "python",
   "nbconvert_exporter": "python",
   "pygments_lexer": "ipython3",
   "version": "3.7.9"
  }
 },
 "nbformat": 4,
 "nbformat_minor": 5
}
