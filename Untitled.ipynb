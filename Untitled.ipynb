{
 "cells": [
  {
   "cell_type": "code",
   "execution_count": 1,
   "id": "585c87f2",
   "metadata": {},
   "outputs": [],
   "source": [
    "from tinygrad.tensor import *"
   ]
  },
  {
   "cell_type": "code",
   "execution_count": 14,
   "id": "d684eab5",
   "metadata": {},
   "outputs": [],
   "source": [
    "??Tensor._conv2d"
   ]
  },
  {
   "cell_type": "code",
   "execution_count": 9,
   "id": "0863e604",
   "metadata": {},
   "outputs": [],
   "source": [
    "??Function.apply"
   ]
  },
  {
   "cell_type": "code",
   "execution_count": 12,
   "id": "f90c5325",
   "metadata": {},
   "outputs": [],
   "source": [
    "??Tensor"
   ]
  },
  {
   "cell_type": "code",
   "execution_count": 13,
   "id": "86f8433d",
   "metadata": {},
   "outputs": [],
   "source": [
    "??Function"
   ]
  },
  {
   "cell_type": "code",
   "execution_count": null,
   "id": "3115e967",
   "metadata": {},
   "outputs": [],
   "source": []
  }
 ],
 "metadata": {
  "kernelspec": {
   "display_name": "Python 3",
   "language": "python",
   "name": "python3"
  },
  "language_info": {
   "codemirror_mode": {
    "name": "ipython",
    "version": 3
   },
   "file_extension": ".py",
   "mimetype": "text/x-python",
   "name": "python",
   "nbconvert_exporter": "python",
   "pygments_lexer": "ipython3",
   "version": "3.7.9"
  }
 },
 "nbformat": 4,
 "nbformat_minor": 5
}
