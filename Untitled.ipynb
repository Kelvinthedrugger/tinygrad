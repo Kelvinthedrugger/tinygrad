{
 "cells": [
  {
   "cell_type": "code",
   "execution_count": 1,
   "id": "585c87f2",
   "metadata": {},
   "outputs": [],
   "source": [
    "from tinygrad.tensor import *"
   ]
  },
  {
   "cell_type": "code",
   "execution_count": 14,
   "id": "d684eab5",
   "metadata": {},
   "outputs": [],
   "source": [
    "??Tensor._conv2d"
   ]
  },
  {
   "cell_type": "code",
   "execution_count": 9,
   "id": "0863e604",
   "metadata": {},
   "outputs": [],
   "source": [
    "??Function.apply"
   ]
  },
  {
   "cell_type": "code",
   "execution_count": 12,
   "id": "f90c5325",
   "metadata": {},
   "outputs": [],
   "source": [
    "??Tensor"
   ]
  },
  {
   "cell_type": "code",
   "execution_count": 13,
   "id": "86f8433d",
   "metadata": {},
   "outputs": [],
   "source": [
    "??Function"
   ]
  },
  {
   "cell_type": "code",
   "execution_count": null,
   "id": "c7f95c4e",
   "metadata": {},
   "outputs": [],
   "source": [
    "# we mostly starts from here instead of the tinygrad thing"
   ]
  },
  {
   "cell_type": "code",
   "execution_count": null,
   "id": "cc852728",
   "metadata": {},
   "outputs": [],
   "source": [
    "# winograd 2x3 for 1D works"
   ]
  },
  {
   "cell_type": "code",
   "execution_count": 1,
   "id": "3115e967",
   "metadata": {},
   "outputs": [],
   "source": [
    "import numpy as np\n",
    "\n",
    "# d: input, g: filter (weight)\n",
    "# 2, 3\n",
    "def wino_1D(g,d):\n",
    "    At = np.array([[1,1,1,0],[0,1,-1,-1]])\n",
    "    Bt = np.array([[1,0,-1,0],[0,1,1,0],[0,-1,1,0],[0,1,0,-1]])\n",
    "    G = np.array([[1,0,0],[0.5,0.5,0.5],[0.5,-0.5,0.5],[0,0,1]])\n",
    "    g = np.array(g).T\n",
    "    d = np.array(d).T\n",
    "\n",
    "    return At @ ( np.multiply( (G @ g), (Bt @ d) ) )\n",
    "\n",
    "def ans_1D(g,d):\n",
    "    return [g[0]*d[0]+g[1]*d[1]+g[2]*d[2], g[0]*d[1]+g[1]*d[2]+g[2]*d[3]]"
   ]
  },
  {
   "cell_type": "code",
   "execution_count": 3,
   "id": "12c927fa",
   "metadata": {},
   "outputs": [],
   "source": [
    "g,d = [-1,0,1],[4,5,6,7]"
   ]
  },
  {
   "cell_type": "code",
   "execution_count": 4,
   "id": "46159b0f",
   "metadata": {},
   "outputs": [
    {
     "name": "stdout",
     "output_type": "stream",
     "text": [
      "[2. 2.] , answer:  [2, 2]\n"
     ]
    }
   ],
   "source": [
    "print(wino_1D(g,d),\", answer: \", ans_1D(g,d))"
   ]
  },
  {
   "cell_type": "code",
   "execution_count": null,
   "id": "dccc1fa3",
   "metadata": {},
   "outputs": [],
   "source": [
    "# create a function for mapping x to m space (aka, winograd space) //in linear algebra"
   ]
  },
  {
   "cell_type": "code",
   "execution_count": 5,
   "id": "0c54fecb",
   "metadata": {},
   "outputs": [],
   "source": [
    "def linmap(m,x):\n",
    "    print(m)\n",
    "    print(x)\n",
    "    return m.T @ x @ m"
   ]
  },
  {
   "cell_type": "code",
   "execution_count": null,
   "id": "18782585",
   "metadata": {},
   "outputs": [],
   "source": [
    "# g, d for 1D winograd"
   ]
  },
  {
   "cell_type": "code",
   "execution_count": 6,
   "id": "60df3458",
   "metadata": {},
   "outputs": [
    {
     "data": {
      "text/plain": [
       "array([[-1],\n",
       "       [ 0],\n",
       "       [ 1]])"
      ]
     },
     "execution_count": 6,
     "metadata": {},
     "output_type": "execute_result"
    }
   ],
   "source": [
    "np.array(g).reshape((3,1))"
   ]
  },
  {
   "cell_type": "code",
   "execution_count": 7,
   "id": "3878a547",
   "metadata": {},
   "outputs": [
    {
     "data": {
      "text/plain": [
       "(4, 3)"
      ]
     },
     "execution_count": 7,
     "metadata": {},
     "output_type": "execute_result"
    }
   ],
   "source": [
    "np.array([[1,0,0],[0.5,0.5,0.5],[0.5,-0.5,0.5],[0,0,1]]).shape"
   ]
  },
  {
   "cell_type": "code",
   "execution_count": null,
   "id": "6ffe7b9f",
   "metadata": {},
   "outputs": [],
   "source": [
    "# experimenting for 2D"
   ]
  },
  {
   "cell_type": "code",
   "execution_count": 8,
   "id": "73e69a76",
   "metadata": {},
   "outputs": [
    {
     "data": {
      "text/plain": [
       "array([[-1. ,  0. ,  0. ,  1. ],\n",
       "       [-1.5,  0. ,  0. ,  1.5],\n",
       "       [-0.5,  0. ,  0. ,  0.5],\n",
       "       [-1. ,  0. ,  0. ,  1. ]])"
      ]
     },
     "execution_count": 8,
     "metadata": {},
     "output_type": "execute_result"
    }
   ],
   "source": [
    "(np.array([[1,0,0],[0.5,0.5,0.5],[0.5,-0.5,0.5],[0,0,1]]) @ (np.array([g,g,g,]).reshape(3,3))) @ ((np.array([[1,0,0],[0.5,0.5,0.5],[0.5,-0.5,0.5],[0,0,1]])).T)"
   ]
  },
  {
   "cell_type": "code",
   "execution_count": null,
   "id": "f1d44d70",
   "metadata": {},
   "outputs": [],
   "source": [
    "# concat g to get the right shape, which is not the correct g,\n",
    "# 2D: F(mxm, rxr), m, r means the shape of input and filter"
   ]
  },
  {
   "cell_type": "code",
   "execution_count": 9,
   "id": "938ca946",
   "metadata": {},
   "outputs": [
    {
     "name": "stdout",
     "output_type": "stream",
     "text": [
      "[[ 1.   0.5  0.5  0. ]\n",
      " [ 0.   0.5 -0.5  0. ]\n",
      " [ 0.   0.5  0.5  1. ]]\n",
      "[[-1  0  1]\n",
      " [-1  0  1]\n",
      " [-1  0  1]]\n"
     ]
    },
    {
     "data": {
      "text/plain": [
       "array([[-1. ,  0. ,  0. ,  1. ],\n",
       "       [-1.5,  0. ,  0. ,  1.5],\n",
       "       [-0.5,  0. ,  0. ,  0.5],\n",
       "       [-1. ,  0. ,  0. ,  1. ]])"
      ]
     },
     "execution_count": 9,
     "metadata": {},
     "output_type": "execute_result"
    }
   ],
   "source": [
    "linmap(np.array([[1,0,0],[0.5,0.5,0.5],[0.5,-0.5,0.5],[0,0,1]]).T,np.array([g,g,g,]).reshape(3,3))"
   ]
  },
  {
   "cell_type": "code",
   "execution_count": 22,
   "id": "fead171b",
   "metadata": {},
   "outputs": [],
   "source": [
    "# worked\n",
    "def wino_2D(g,d):\n",
    "    At = np.array([[1,1,1,0],[0,1,-1,-1]])\n",
    "    Bt = np.array([[1,0,-1,0],[0,1,1,0],[0,-1,1,0],[0,1,0,-1]])\n",
    "    G = np.array([[1,0,0],[0.5,0.5,0.5],[0.5,-0.5,0.5],[0,0,1]])\n",
    "    #return At @ ( np.multiply( (G @ g @ G.T), (Bt @ d @ B) ) ) @ A\n",
    "    one = G @ g @ (G.T)\n",
    "    two = Bt @ d @ (Bt.T)\n",
    "    ot = np.multiply(one,two) # element-wise mul\n",
    "    return At @ ot @ (At.T)"
   ]
  },
  {
   "cell_type": "code",
   "execution_count": 23,
   "id": "9dfdc5b4",
   "metadata": {},
   "outputs": [
    {
     "data": {
      "text/plain": [
       "array([[6., 6.],\n",
       "       [6., 6.]])"
      ]
     },
     "execution_count": 23,
     "metadata": {},
     "output_type": "execute_result"
    }
   ],
   "source": [
    "wino_2D(np.array([g,g,g]).reshape(3,3),np.array([d,d,d,d]).reshape(4,4))"
   ]
  },
  {
   "cell_type": "code",
   "execution_count": 25,
   "id": "e5c805da",
   "metadata": {},
   "outputs": [
    {
     "data": {
      "text/plain": [
       "(array([[-1,  0,  1],\n",
       "        [-1,  0,  1],\n",
       "        [-1,  0,  1]]),\n",
       " array([[4, 5, 6, 7],\n",
       "        [4, 5, 6, 7],\n",
       "        [4, 5, 6, 7],\n",
       "        [4, 5, 6, 7]]))"
      ]
     },
     "execution_count": 25,
     "metadata": {},
     "output_type": "execute_result"
    }
   ],
   "source": [
    "a,b = np.array([g,g,g]).reshape(3,3), np.array([d,d,d,d]).reshape(4,4)\n",
    "a,b"
   ]
  },
  {
   "cell_type": "code",
   "execution_count": 34,
   "id": "572ff9b2",
   "metadata": {},
   "outputs": [
    {
     "data": {
      "text/plain": [
       "array([[6., 6.],\n",
       "       [6., 6.]])"
      ]
     },
     "execution_count": 34,
     "metadata": {},
     "output_type": "execute_result"
    }
   ],
   "source": [
    "def ans_2D(g,d):\n",
    "    row = d.shape[0] - g.shape[0] + 1\n",
    "    col = d.shape[1] - g.shape[1] + 1\n",
    "    # print(row,col) (2,2)\n",
    "    st = 1 # step\n",
    "    ks = g.shape[0] # kernel size in convops\n",
    "    ans = np.zeros((row,col)) # init the result mat\n",
    "    for r in range(0,row,st):\n",
    "        for c in range(0,col,st):\n",
    "            # print(d[r:ks,c:ks])\n",
    "            ans[r,c] = np.multiply(g,d[r:r+ks,c:c+ks]).sum()\n",
    "    \n",
    "    return ans\n",
    "    \n",
    "ans_2D(a,b)"
   ]
  },
  {
   "cell_type": "code",
   "execution_count": 37,
   "id": "b4cf6a42",
   "metadata": {},
   "outputs": [],
   "source": [
    "# FIR filter \n",
    "# F(mxm,rxr): used in conv layer with rxr kernel\n",
    "#    size: m+r-1; overlap with neighbor: r-1\n",
    "#   -> yeilding P[H/m][W/m] tiles per channel, C\n",
    "??linmap # map input vector to coloum space // linear algebra"
   ]
  },
  {
   "cell_type": "code",
   "execution_count": 54,
   "id": "64fdfa03",
   "metadata": {},
   "outputs": [],
   "source": [
    "# cover the print in linmap\n",
    "\n",
    "def linmapp(M,x): return M @ x @ (M.T)\n"
   ]
  },
  {
   "cell_type": "code",
   "execution_count": 55,
   "id": "5cdf793e",
   "metadata": {},
   "outputs": [],
   "source": [
    "def get_mapped_filter(G,g):\n",
    "    #return G @ g @ (G.T)\n",
    "    return linmapp(G,g)\n",
    "\n",
    "def get_mapped_input(Bt,d):\n",
    "    #return Bt @ d @ (Bt.T)\n",
    "    return linmapp(Bt,d)\n"
   ]
  },
  {
   "cell_type": "code",
   "execution_count": 44,
   "id": "46a17805",
   "metadata": {},
   "outputs": [],
   "source": [
    "def init(h,w,c=1):\n",
    "    return np.random.uniform(-1.,1.,size=(c,h,w))/np.sqrt(h*w)"
   ]
  },
  {
   "cell_type": "code",
   "execution_count": 45,
   "id": "155d3c5e",
   "metadata": {},
   "outputs": [
    {
     "data": {
      "text/plain": [
       "array([[ 0.22770656, -0.02174195, -0.04325256],\n",
       "       [-0.18679384,  0.31386576, -0.29193365],\n",
       "       [-0.17154842, -0.26683277,  0.14706923]])"
      ]
     },
     "execution_count": 45,
     "metadata": {},
     "output_type": "execute_result"
    }
   ],
   "source": [
    "init(3,3,1)[0]"
   ]
  },
  {
   "cell_type": "code",
   "execution_count": 105,
   "id": "1efccfce",
   "metadata": {},
   "outputs": [],
   "source": [
    "# write a general wino_m_r(m,r) ones later\n",
    "\n",
    "# attention: what's the role of #filters here?\n",
    "def wino_m2_f3_conv(image,m=2,r=3,filters=1):\n",
    "    alpha = m + r-1\n",
    "    C, H, W= image.shape\n",
    "    #print(H,W,C)\n",
    "    P = (H//m) * (W // m)\n",
    "    print(\" H W C P\\n\", H, W, C, P)\n",
    "    K = filters\n",
    "\n",
    "    out = np.zeros((alpha,alpha))\n",
    "    # inverse transform\n",
    "    At = np.array([[1,1,1,0],[0,1,-1,-1]])\n",
    "    # data, not the input !\n",
    "    Bt = np.array([[1,0,-1,0],[0,1,1,0],[0,-1,1,0],[0,1,0,-1]])\n",
    "    # filter: (alpha,r)\n",
    "    G = np.array([[1,0,0],[0.5,0.5,0.5],[0.5,-0.5,0.5],[0,0,1]])\n",
    "    \n",
    "    # d: input tile b in channel c (alpha,alpha)\n",
    "    # g: filter k in channel c (rxr)\n",
    "    g = init(3,3,K)\n",
    "    # Y: output tile b in filter k (mxm)\n",
    "    \n",
    "    # kernel transform ?\n",
    "    U = np.zeros((K,C,alpha,alpha))\n",
    "    for k in range(K):\n",
    "        for c in range(C):\n",
    "            u = get_mapped_filter(G,g[k])\n",
    "            # U ?\n",
    "            U[k,c] = u\n",
    "    print(\"U\",U)\n",
    "    # input tiles: HARD!\n",
    "    # loop thru image tiles often means\n",
    "    #  double for-loop\n",
    "    d = image # cast to image tiles, expensive, should be improved later\n",
    "    print(d.shape)\n",
    "    print(d)\n",
    "    V = np.zeros((C,P,alpha,alpha))\n",
    "    #\"\"\"\n",
    "    for b in range(1):\n",
    "        for c in range(C):\n",
    "            v = get_mapped_input(Bt,d[b])\n",
    "            V[c,b] = v\n",
    "    \"\"\"\n",
    "    for row in range(0,H//r+1):\n",
    "        for col in range(0,W//r+1):\n",
    "        # put channel in inner loop to move as less (i guess ?)\n",
    "            for c in range(C):\n",
    "                print(d[c,row:row+r,col:col+r].shape)\n",
    "                v = get_mapped_input(Bt,d[c, row:row+r,col:col+r])\n",
    "                V[c,col+row*(W//r+1)] = v # ?\"\"\"\n",
    "    print(\"V\", V)\n",
    "    # output\n",
    "    M = np.zeros((K,P))\n",
    "    for e in range(K):\n",
    "        for v in range(P):\n",
    "            M[e,v] = np.multiply(U[e,v], V[e,v])\n",
    "    print(\"M\",M)\n",
    "    \n",
    "    Y = np.zeros((K,P))\n",
    "    for k in range(K):\n",
    "        for b in range(P):\n",
    "            m = M[k,b]\n",
    "            Y[k,b] = linmap(At,m)\n",
    "    print(\"Y\",Y)\n",
    "    return Y"
   ]
  },
  {
   "cell_type": "code",
   "execution_count": 99,
   "id": "a06ee97d",
   "metadata": {},
   "outputs": [
    {
     "data": {
      "text/plain": [
       "array([[[-0.01134252,  0.24521127, -0.06353935, -0.10966388],\n",
       "        [-0.245929  , -0.03283112,  0.16062683,  0.12875053],\n",
       "        [ 0.24165992,  0.03510002, -0.20972852, -0.22746484],\n",
       "        [ 0.12778649, -0.12189717, -0.15518942, -0.05050621]]])"
      ]
     },
     "execution_count": 99,
     "metadata": {},
     "output_type": "execute_result"
    }
   ],
   "source": [
    "image = init(4,4,1)\n",
    "image"
   ]
  },
  {
   "cell_type": "code",
   "execution_count": 106,
   "id": "f3be6e87",
   "metadata": {},
   "outputs": [
    {
     "name": "stdout",
     "output_type": "stream",
     "text": [
      " H W C P\n",
      " 4 4 1 4\n",
      "U [[[[-0.15493706 -0.06534759 -0.19264956 -0.10306008]\n",
      "   [ 0.16797316  0.03967187 -0.04230232 -0.17060362]\n",
      "   [-0.02851151 -0.09232475 -0.11201862 -0.17583186]\n",
      "   [ 0.29439871  0.0126947   0.03832861 -0.2433754 ]]]]\n",
      "(1, 4, 4)\n",
      "[[[-0.01134252  0.24521127 -0.06353935 -0.10966388]\n",
      "  [-0.245929   -0.03283112  0.16062683  0.12875053]\n",
      "  [ 0.24165992  0.03510002 -0.20972852 -0.22746484]\n",
      "  [ 0.12778649 -0.12189717 -0.15518942 -0.05050621]]]\n",
      "V [[[[-0.39919161  0.35630042 -0.06392208  0.09231029]\n",
      "   [ 0.04483261 -0.04683278 -0.0513706   0.10098322]\n",
      "   [ 0.85794428 -0.30242422 -0.4382865   0.42414651]\n",
      "   [-0.68953175  0.40488231  0.2267502  -0.09019068]]\n",
      "\n",
      "  [[ 0.          0.          0.          0.        ]\n",
      "   [ 0.          0.          0.          0.        ]\n",
      "   [ 0.          0.          0.          0.        ]\n",
      "   [ 0.          0.          0.          0.        ]]\n",
      "\n",
      "  [[ 0.          0.          0.          0.        ]\n",
      "   [ 0.          0.          0.          0.        ]\n",
      "   [ 0.          0.          0.          0.        ]\n",
      "   [ 0.          0.          0.          0.        ]]\n",
      "\n",
      "  [[ 0.          0.          0.          0.        ]\n",
      "   [ 0.          0.          0.          0.        ]\n",
      "   [ 0.          0.          0.          0.        ]\n",
      "   [ 0.          0.          0.          0.        ]]]]\n"
     ]
    },
    {
     "ename": "ValueError",
     "evalue": "setting an array element with a sequence.",
     "output_type": "error",
     "traceback": [
      "\u001b[1;31m---------------------------------------------------------------------------\u001b[0m",
      "\u001b[1;31mTypeError\u001b[0m                                 Traceback (most recent call last)",
      "\u001b[1;31mTypeError\u001b[0m: only size-1 arrays can be converted to Python scalars",
      "\nThe above exception was the direct cause of the following exception:\n",
      "\u001b[1;31mValueError\u001b[0m                                Traceback (most recent call last)",
      "\u001b[1;32m<ipython-input-106-141908ee57e2>\u001b[0m in \u001b[0;36m<module>\u001b[1;34m\u001b[0m\n\u001b[1;32m----> 1\u001b[1;33m \u001b[0mwino_m2_f3_conv\u001b[0m\u001b[1;33m(\u001b[0m\u001b[0mimage\u001b[0m\u001b[1;33m)\u001b[0m\u001b[1;33m\u001b[0m\u001b[1;33m\u001b[0m\u001b[0m\n\u001b[0m",
      "\u001b[1;32m<ipython-input-105-3116c333ac1a>\u001b[0m in \u001b[0;36mwino_m2_f3_conv\u001b[1;34m(image, m, r, filters)\u001b[0m\n\u001b[0;32m     56\u001b[0m     \u001b[1;32mfor\u001b[0m \u001b[0me\u001b[0m \u001b[1;32min\u001b[0m \u001b[0mrange\u001b[0m\u001b[1;33m(\u001b[0m\u001b[0mK\u001b[0m\u001b[1;33m)\u001b[0m\u001b[1;33m:\u001b[0m\u001b[1;33m\u001b[0m\u001b[1;33m\u001b[0m\u001b[0m\n\u001b[0;32m     57\u001b[0m         \u001b[1;32mfor\u001b[0m \u001b[0mv\u001b[0m \u001b[1;32min\u001b[0m \u001b[0mrange\u001b[0m\u001b[1;33m(\u001b[0m\u001b[0mP\u001b[0m\u001b[1;33m)\u001b[0m\u001b[1;33m:\u001b[0m\u001b[1;33m\u001b[0m\u001b[1;33m\u001b[0m\u001b[0m\n\u001b[1;32m---> 58\u001b[1;33m             \u001b[0mM\u001b[0m\u001b[1;33m[\u001b[0m\u001b[0me\u001b[0m\u001b[1;33m,\u001b[0m\u001b[0mv\u001b[0m\u001b[1;33m]\u001b[0m \u001b[1;33m=\u001b[0m \u001b[0mnp\u001b[0m\u001b[1;33m.\u001b[0m\u001b[0mmultiply\u001b[0m\u001b[1;33m(\u001b[0m\u001b[0mU\u001b[0m\u001b[1;33m[\u001b[0m\u001b[0me\u001b[0m\u001b[1;33m,\u001b[0m\u001b[0mv\u001b[0m\u001b[1;33m]\u001b[0m\u001b[1;33m,\u001b[0m \u001b[0mV\u001b[0m\u001b[1;33m[\u001b[0m\u001b[0me\u001b[0m\u001b[1;33m,\u001b[0m\u001b[0mv\u001b[0m\u001b[1;33m]\u001b[0m\u001b[1;33m)\u001b[0m\u001b[1;33m\u001b[0m\u001b[1;33m\u001b[0m\u001b[0m\n\u001b[0m\u001b[0;32m     59\u001b[0m     \u001b[0mprint\u001b[0m\u001b[1;33m(\u001b[0m\u001b[1;34m\"M\"\u001b[0m\u001b[1;33m,\u001b[0m\u001b[0mM\u001b[0m\u001b[1;33m)\u001b[0m\u001b[1;33m\u001b[0m\u001b[1;33m\u001b[0m\u001b[0m\n\u001b[0;32m     60\u001b[0m \u001b[1;33m\u001b[0m\u001b[0m\n",
      "\u001b[1;31mValueError\u001b[0m: setting an array element with a sequence."
     ]
    }
   ],
   "source": [
    "wino_m2_f3_conv(image)"
   ]
  },
  {
   "cell_type": "code",
   "execution_count": null,
   "id": "15e4c374",
   "metadata": {},
   "outputs": [],
   "source": []
  }
 ],
 "metadata": {
  "kernelspec": {
   "display_name": "Python 3",
   "language": "python",
   "name": "python3"
  },
  "language_info": {
   "codemirror_mode": {
    "name": "ipython",
    "version": 3
   },
   "file_extension": ".py",
   "mimetype": "text/x-python",
   "name": "python",
   "nbconvert_exporter": "python",
   "pygments_lexer": "ipython3",
   "version": "3.7.9"
  }
 },
 "nbformat": 4,
 "nbformat_minor": 5
}
